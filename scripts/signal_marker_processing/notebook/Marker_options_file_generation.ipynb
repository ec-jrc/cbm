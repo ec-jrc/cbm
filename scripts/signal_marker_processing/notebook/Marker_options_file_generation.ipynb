{
 "cells": [
  {
   "cell_type": "markdown",
   "id": "bed3ce4d",
   "metadata": {},
   "source": [
    "### Notebook for the generation of an option file for Marker Processing ###"
   ]
  },
  {
   "cell_type": "code",
   "execution_count": 1,
   "id": "b8db07d9",
   "metadata": {},
   "outputs": [],
   "source": [
    "# Add directory to the marker processing libraries\n",
    "import sys\n",
    "sys.path.append('../')"
   ]
  },
  {
   "cell_type": "markdown",
   "id": "18d60f9e",
   "metadata": {},
   "source": [
    "### Configuration of the Parcel Source ###"
   ]
  },
  {
   "cell_type": "code",
   "execution_count": 2,
   "id": "1dfae0c5",
   "metadata": {},
   "outputs": [
    {
     "data": {
      "application/vnd.jupyter.widget-view+json": {
       "model_id": "476a0887718f4bc890cecc95d931a574",
       "version_major": 2,
       "version_minor": 0
      },
      "text/plain": [
       "parcel_data_source_widget(children=(Box(children=(Label(value='Parcel Data sources:'), RadioButtons(layout=Lay…"
      ]
     },
     "metadata": {},
     "output_type": "display_data"
    }
   ],
   "source": [
    "from pds_widgets import parcel_data_source_widget\n",
    "ps = parcel_data_source_widget()\n",
    "ps"
   ]
  },
  {
   "cell_type": "markdown",
   "id": "21a84806",
   "metadata": {},
   "source": [
    "### Configuration of the Time Series Sources ###"
   ]
  },
  {
   "cell_type": "code",
   "execution_count": 3,
   "id": "3098ae03",
   "metadata": {
    "scrolled": true
   },
   "outputs": [
    {
     "data": {
      "application/vnd.jupyter.widget-view+json": {
       "model_id": "241b3fab8c5c481e8901e81d52c86451",
       "version_major": 2,
       "version_minor": 0
      },
      "text/plain": [
       "DataReaderTab(children=(Tab(), HBox(children=(Button(description='Add', icon='Add', style=ButtonStyle(), toolt…"
      ]
     },
     "metadata": {},
     "output_type": "display_data"
    }
   ],
   "source": [
    "from dr_widgets import DataReaderTab\n",
    "drt = DataReaderTab()\n",
    "drt"
   ]
  },
  {
   "cell_type": "code",
   "execution_count": 4,
   "id": "4ed39318",
   "metadata": {},
   "outputs": [
    {
     "data": {
      "text/plain": [
       "{'s2_bands': ['count',\n",
       "  'B02_mean',\n",
       "  'B02_std',\n",
       "  'cloud_pct',\n",
       "  'B03_mean',\n",
       "  'B03_std',\n",
       "  'B04_mean',\n",
       "  'B04_std',\n",
       "  'B05_mean',\n",
       "  'B05_std',\n",
       "  'B08_mean',\n",
       "  'B08_std',\n",
       "  'B11_mean',\n",
       "  'B11_std',\n",
       "  'utm_number'],\n",
       " 'coh': ['count', 'VHc_mean', 'VHc_std', 'orbit', 'VVc_mean', 'VVc_std'],\n",
       " 'bs': ['count', 'VHb_mean', 'VHb_std', 'orbit', 'VVb_mean', 'VVb_std']}"
      ]
     },
     "execution_count": 4,
     "metadata": {},
     "output_type": "execute_result"
    }
   ],
   "source": [
    "ts_options = drt.dump()\n",
    "\n",
    "# Create the actual time series sources\n",
    "import time_series_sources as tss\n",
    "\n",
    "ts_source_factory = tss.time_serie_source_factory()\n",
    "ts_sources = ts_source_factory.get_time_series_sources(ts_options)\n",
    "\n",
    "# Build the signal/components dictionary\n",
    "signal_components = {}\n",
    "for ts_source in ts_sources :\n",
    "    signal_components[ts_source.get_signal_type()] = ts_source.get_components()\n",
    "    \n",
    "signal_components"
   ]
  },
  {
   "cell_type": "markdown",
   "id": "f12f2354",
   "metadata": {},
   "source": [
    "### Configuration of the Pre-Processors ###"
   ]
  },
  {
   "cell_type": "code",
   "execution_count": 5,
   "id": "d00dbc4e",
   "metadata": {},
   "outputs": [
    {
     "data": {
      "application/vnd.jupyter.widget-view+json": {
       "model_id": "93e601048fce471680d24ba8ba0509a4",
       "version_major": 2,
       "version_minor": 0
      },
      "text/plain": [
       "processing_tab(children=(Tab(children=(processing_line(children=(HTML(value='<B>Processing Line</B>'), Text(va…"
      ]
     },
     "metadata": {},
     "output_type": "display_data"
    }
   ],
   "source": [
    "from pp_widgets import processing_tab\n",
    "pt = processing_tab(signal_components)\n",
    "pt"
   ]
  },
  {
   "cell_type": "code",
   "execution_count": 6,
   "id": "f696820d",
   "metadata": {},
   "outputs": [
    {
     "data": {
      "text/plain": [
       "{'s2_bands': ['count',\n",
       "  'B02_mean',\n",
       "  'B02_std',\n",
       "  'cloud_pct',\n",
       "  'B03_mean',\n",
       "  'B03_std',\n",
       "  'B04_mean',\n",
       "  'B04_std',\n",
       "  'B05_mean',\n",
       "  'B05_std',\n",
       "  'B08_mean',\n",
       "  'B08_std',\n",
       "  'B11_mean',\n",
       "  'B11_std',\n",
       "  'utm_number'],\n",
       " 'coh': ['count', 'VHc_mean', 'VHc_std', 'orbit', 'VVc_mean', 'VVc_std'],\n",
       " 'bs': ['count', 'VHb_mean', 'VHb_std', 'orbit', 'VVb_mean', 'VVb_std'],\n",
       " 'ndvi': ['ndvi_mean'],\n",
       " 'b04_b08_b11_st': ['B08_mean', 'B11_mean', 'B04_mean'],\n",
       " 'band_class': ['classes'],\n",
       " 'coh_compo': ['coh_1_VHc_mean',\n",
       "  'coh_1_VVc_mean',\n",
       "  'coh_2_VHc_mean',\n",
       "  'coh_2_VVc_mean'],\n",
       " 'ndvi_filt': ['ndvi_mean'],\n",
       " 'b04_b08_b11': ['B08_mean', 'B11_mean', 'B04_mean'],\n",
       " 'coh_norm': ['norm']}"
      ]
     },
     "execution_count": 6,
     "metadata": {},
     "output_type": "execute_result"
    }
   ],
   "source": [
    "# Merge the signal/component dictionaries\n",
    "sc_dict = {**signal_components, **(pt.get_signal_components())}\n",
    "sc_dict"
   ]
  },
  {
   "cell_type": "markdown",
   "id": "8f4b0802",
   "metadata": {},
   "source": [
    "### Configuration of the Marker Detectors ###"
   ]
  },
  {
   "cell_type": "code",
   "execution_count": 7,
   "id": "b6dc3143",
   "metadata": {},
   "outputs": [
    {
     "data": {
      "application/vnd.jupyter.widget-view+json": {
       "model_id": "d9e76a2673d3473dac35127b847f9dbd",
       "version_major": 2,
       "version_minor": 0
      },
      "text/plain": [
       "marker_detector_tab(children=(Tab(), HBox(children=(Button(description='Add', icon='Add', style=ButtonStyle())…"
      ]
     },
     "metadata": {},
     "output_type": "display_data"
    }
   ],
   "source": [
    "from md_widgets import marker_detector_tab\n",
    "md = marker_detector_tab(sc_dict)\n",
    "md"
   ]
  },
  {
   "cell_type": "markdown",
   "id": "62d84310",
   "metadata": {},
   "source": [
    "### Configuration of the Data Displayers ###"
   ]
  },
  {
   "cell_type": "code",
   "execution_count": 8,
   "id": "07274668",
   "metadata": {},
   "outputs": [
    {
     "data": {
      "application/vnd.jupyter.widget-view+json": {
       "model_id": "6cbd1d8a89624341a77acd19e9e38e54",
       "version_major": 2,
       "version_minor": 0
      },
      "text/plain": [
       "data_displayer_tab(children=(Tab(children=(base_data_displayer_widget(children=(SelectMultiple(description='Si…"
      ]
     },
     "metadata": {},
     "output_type": "display_data"
    }
   ],
   "source": [
    "import dd_widgets\n",
    "import importlib\n",
    "importlib.reload(dd_widgets)\n",
    "\n",
    "dt = dd_widgets.data_displayer_tab(sc_dict)\n",
    "dt"
   ]
  },
  {
   "cell_type": "code",
   "execution_count": 9,
   "id": "dae11ed6",
   "metadata": {},
   "outputs": [
    {
     "data": {
      "application/vnd.jupyter.widget-view+json": {
       "model_id": "edde1a150c7a455ba6457e4444403658",
       "version_major": 2,
       "version_minor": 0
      },
      "text/plain": [
       "w_initializer(children=(HTML(value='<B>Initialize all elements</B>'), Button(description='Initialize All', ico…"
      ]
     },
     "metadata": {},
     "output_type": "display_data"
    }
   ],
   "source": [
    "import full_initializer\n",
    "importlib.reload(full_initializer)\n",
    "wi = full_initializer.w_initializer(ps, drt, pt, md, dt, \"./config/main.json\")\n",
    "wi"
   ]
  },
  {
   "cell_type": "markdown",
   "id": "1344deef",
   "metadata": {},
   "source": [
    "### Finally run the main script ###"
   ]
  },
  {
   "cell_type": "code",
   "execution_count": 10,
   "id": "ced3d61b",
   "metadata": {},
   "outputs": [
    {
     "name": "stdout",
     "output_type": "stream",
     "text": [
      "Parcel data loaded \n",
      "\n",
      "Time series loaded\n"
     ]
    },
    {
     "data": {
      "application/vnd.jupyter.widget-view+json": {
       "model_id": "7e58f574ebe746a7bc970cd2a719e004",
       "version_major": 2,
       "version_minor": 0
      },
      "text/plain": [
       "  0%|          | 0/10 [00:00<?, ?it/s]"
      ]
     },
     "metadata": {},
     "output_type": "display_data"
    },
    {
     "name": "stdout",
     "output_type": "stream",
     "text": [
      "http://cap.users.creodias.eu/query/parcelTimeSeries?aoi=cz&year=2020&pid=733112304&tstype=s2&scl=True&ref=True\n",
      "<Response [200]>\n",
      "http://cap.users.creodias.eu/query/parcelTimeSeries?aoi=cz&year=2020&pid=733112304&tstype=c6&scl=True&ref=True\n",
      "<Response [200]>\n",
      "http://cap.users.creodias.eu/query/parcelTimeSeries?aoi=cz&year=2020&pid=733112304&tstype=bs&scl=True&ref=True\n",
      "<Response [200]>\n",
      "http://cap.users.creodias.eu/query/parcelTimeSeries?aoi=cz&year=2020&pid=751112805/2&tstype=s2&scl=True&ref=True\n",
      "<Response [200]>\n",
      "http://cap.users.creodias.eu/query/parcelTimeSeries?aoi=cz&year=2020&pid=751112805/2&tstype=c6&scl=True&ref=True\n",
      "<Response [200]>\n",
      "http://cap.users.creodias.eu/query/parcelTimeSeries?aoi=cz&year=2020&pid=751112805/2&tstype=bs&scl=True&ref=True\n",
      "<Response [200]>\n",
      "http://cap.users.creodias.eu/query/parcelTimeSeries?aoi=cz&year=2020&pid=757111707/18&tstype=s2&scl=True&ref=True\n",
      "<Response [200]>\n",
      "http://cap.users.creodias.eu/query/parcelTimeSeries?aoi=cz&year=2020&pid=757111707/18&tstype=c6&scl=True&ref=True\n",
      "<Response [200]>\n",
      "http://cap.users.creodias.eu/query/parcelTimeSeries?aoi=cz&year=2020&pid=757111707/18&tstype=bs&scl=True&ref=True\n",
      "<Response [200]>\n",
      "http://cap.users.creodias.eu/query/parcelTimeSeries?aoi=cz&year=2020&pid=762119202/9&tstype=s2&scl=True&ref=True\n",
      "<Response [200]>\n",
      "http://cap.users.creodias.eu/query/parcelTimeSeries?aoi=cz&year=2020&pid=762119202/9&tstype=c6&scl=True&ref=True\n",
      "<Response [200]>\n",
      "http://cap.users.creodias.eu/query/parcelTimeSeries?aoi=cz&year=2020&pid=762119202/9&tstype=bs&scl=True&ref=True\n",
      "<Response [200]>\n",
      "http://cap.users.creodias.eu/query/parcelTimeSeries?aoi=cz&year=2020&pid=761119301/1&tstype=s2&scl=True&ref=True\n",
      "<Response [200]>\n",
      "http://cap.users.creodias.eu/query/parcelTimeSeries?aoi=cz&year=2020&pid=761119301/1&tstype=c6&scl=True&ref=True\n",
      "<Response [200]>\n",
      "http://cap.users.creodias.eu/query/parcelTimeSeries?aoi=cz&year=2020&pid=761119301/1&tstype=bs&scl=True&ref=True\n",
      "<Response [200]>\n",
      "http://cap.users.creodias.eu/query/parcelTimeSeries?aoi=cz&year=2020&pid=762119806/1&tstype=s2&scl=True&ref=True\n",
      "<Response [200]>\n",
      "http://cap.users.creodias.eu/query/parcelTimeSeries?aoi=cz&year=2020&pid=762119806/1&tstype=c6&scl=True&ref=True\n",
      "<Response [200]>\n",
      "http://cap.users.creodias.eu/query/parcelTimeSeries?aoi=cz&year=2020&pid=762119806/1&tstype=bs&scl=True&ref=True\n",
      "<Response [200]>\n",
      "http://cap.users.creodias.eu/query/parcelTimeSeries?aoi=cz&year=2020&pid=759112301/2&tstype=s2&scl=True&ref=True\n",
      "<Response [200]>\n",
      "http://cap.users.creodias.eu/query/parcelTimeSeries?aoi=cz&year=2020&pid=759112301/2&tstype=c6&scl=True&ref=True\n",
      "<Response [200]>\n",
      "http://cap.users.creodias.eu/query/parcelTimeSeries?aoi=cz&year=2020&pid=759112301/2&tstype=bs&scl=True&ref=True\n",
      "<Response [200]>\n",
      "http://cap.users.creodias.eu/query/parcelTimeSeries?aoi=cz&year=2020&pid=737111405&tstype=s2&scl=True&ref=True\n",
      "<Response [200]>\n",
      "http://cap.users.creodias.eu/query/parcelTimeSeries?aoi=cz&year=2020&pid=737111405&tstype=c6&scl=True&ref=True\n",
      "<Response [200]>\n",
      "http://cap.users.creodias.eu/query/parcelTimeSeries?aoi=cz&year=2020&pid=737111405&tstype=bs&scl=True&ref=True\n",
      "<Response [200]>\n",
      "http://cap.users.creodias.eu/query/parcelTimeSeries?aoi=cz&year=2020&pid=752111501/4&tstype=s2&scl=True&ref=True\n",
      "<Response [200]>\n",
      "http://cap.users.creodias.eu/query/parcelTimeSeries?aoi=cz&year=2020&pid=752111501/4&tstype=c6&scl=True&ref=True\n",
      "<Response [200]>\n",
      "http://cap.users.creodias.eu/query/parcelTimeSeries?aoi=cz&year=2020&pid=752111501/4&tstype=bs&scl=True&ref=True\n",
      "<Response [200]>\n",
      "http://cap.users.creodias.eu/query/parcelTimeSeries?aoi=cz&year=2020&pid=752112802/1&tstype=s2&scl=True&ref=True\n",
      "<Response [200]>\n",
      "http://cap.users.creodias.eu/query/parcelTimeSeries?aoi=cz&year=2020&pid=752112802/1&tstype=c6&scl=True&ref=True\n",
      "<Response [200]>\n",
      "http://cap.users.creodias.eu/query/parcelTimeSeries?aoi=cz&year=2020&pid=752112802/1&tstype=bs&scl=True&ref=True\n",
      "<Response [200]>\n"
     ]
    }
   ],
   "source": [
    "%run ../main.py notebook=True parcel_num=10"
   ]
  },
  {
   "cell_type": "markdown",
   "id": "fa941cd3",
   "metadata": {},
   "source": [
    "### Check the Results ###"
   ]
  },
  {
   "cell_type": "code",
   "execution_count": null,
   "id": "cdd02029",
   "metadata": {},
   "outputs": [],
   "source": [
    "import json\n",
    "import os \n",
    "from IPython.display import display, Image\n",
    "\n",
    "optionfile = open(\"./config/main.json\")\n",
    "options = json.load(optionfile)\n",
    "\n",
    "path_name = None\n",
    "if \"data-displayers\" in options :\n",
    "    dd = options[\"data-displayers\"]\n",
    "    path_name = dd[0][\"output_folder\"]\n",
    "\n",
    "prefix = \"final\"\n",
    "\n",
    "png_file = []\n",
    "if path_name is not None :\n",
    "    png_files = [f for f in os.listdir(path_name) if f.startswith(prefix)]\n",
    "    \n",
    "if len(png_files) > 0 :\n",
    "    png_file_name = path_name + \"/\" + png_files[0]\n",
    "    img = Image(png_file_name)\n",
    "    display(img)"
   ]
  },
  {
   "cell_type": "code",
   "execution_count": null,
   "id": "9e708561",
   "metadata": {},
   "outputs": [],
   "source": []
  }
 ],
 "metadata": {
  "kernelspec": {
   "display_name": "Python 3",
   "language": "python",
   "name": "python3"
  },
  "language_info": {
   "codemirror_mode": {
    "name": "ipython",
    "version": 3
   },
   "file_extension": ".py",
   "mimetype": "text/x-python",
   "name": "python",
   "nbconvert_exporter": "python",
   "pygments_lexer": "ipython3",
   "version": "3.9.2"
  }
 },
 "nbformat": 4,
 "nbformat_minor": 5
}
