{
 "cells": [
  {
   "cell_type": "markdown",
   "metadata": {},
   "source": [
    "### Define default parameters and lauch the chip extract processing GUI"
   ]
  },
  {
   "cell_type": "code",
   "execution_count": 1,
   "metadata": {},
   "outputs": [
    {
     "data": {
      "application/vnd.jupyter.widget-view+json": {
       "model_id": "126cb11956014a0d823792745d8456d9",
       "version_major": 2,
       "version_minor": 0
      },
      "text/plain": [
       "VBox(children=(HBox(children=(HTML(value='<h1>Run calendar view script</h1'),)), VBox(children=(Tab(children=(…"
      ]
     },
     "metadata": {},
     "output_type": "display_data"
    }
   ],
   "source": [
    "from pathlib import Path\n",
    "import calendar_view_gui\n",
    "import os\n",
    "import importlib\n",
    "\n",
    "importlib.reload(calendar_view_gui)\n",
    "home = str(Path.home())\n",
    "\n",
    "MS = \"NL\"\n",
    "year = 2018\n",
    "ptype = \"m\"\n",
    "\n",
    "default_vector = \"vector/nl2018_parcels_m_rnd_first_10.shp\"\n",
    "\n",
    "api_user, api_pass = '', ''\n",
    "\n",
    "default_out_tif_folder_base = \"output/\" + MS + \"/\" + str(year)\n",
    "\n",
    "if not os.path.exists(default_out_tif_folder_base):\n",
    "    os.makedirs(default_out_tif_folder_base)\n",
    "\n",
    "gui = calendar_view_gui.calendar_view_gui(\n",
    "default_search_window_start_date = str(year) +\"-01-01\",  \n",
    "default_search_window_end_date = str(year) +\"-12-31\",  \n",
    "default_index_graph_start_date = str(year) +\"-01-01\",\n",
    "default_index_graph_end_date = str(year) +\"-12-31\",\n",
    "\n",
    "default_shapefile = default_vector,\n",
    "default_out_tif_folder_base = default_out_tif_folder_base,\n",
    "MS = MS,\n",
    "year = str(year),\n",
    "api_user = api_user,\n",
    "api_pass = api_pass,\n",
    "ptype = ptype)\n",
    "\n",
    "gui"
   ]
  },
  {
   "cell_type": "code",
   "execution_count": null,
   "metadata": {},
   "outputs": [],
   "source": []
  }
 ],
 "metadata": {
  "kernelspec": {
   "display_name": "Python 3",
   "language": "python",
   "name": "python3"
  },
  "language_info": {
   "codemirror_mode": {
    "name": "ipython",
    "version": 3
   },
   "file_extension": ".py",
   "mimetype": "text/x-python",
   "name": "python",
   "nbconvert_exporter": "python",
   "pygments_lexer": "ipython3",
   "version": "3.9.5"
  }
 },
 "nbformat": 4,
 "nbformat_minor": 4
}
