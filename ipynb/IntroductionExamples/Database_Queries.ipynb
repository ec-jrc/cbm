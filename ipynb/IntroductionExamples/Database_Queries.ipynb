{
 "cells": [
  {
   "cell_type": "markdown",
   "metadata": {},
   "source": [
    "# Simple database queries\n",
    "\n",
    "This notebook demonstrates the core tables in the DIAS data base and lists a number of queries that can be used to select data from the database.\n",
    "\n",
    "The DIAS database is PostgreSQL with the Postgis extension installed. Postgis is required to handle spatial data features and perform spatial queries. The database server runs inside a docker container which is based on the standard mdillon/postgis image. The server is accessible from any VM in the DIAS cluster.\n",
    "\n",
    "## Database tables\n",
    "Three tables contain the core data we need in this tutorial. There are:\n",
    "\n",
    " - __dias_catalogue__: contains the metadata for all CARD images that are processed on the DIAS; (Columns: id, obstime, reference, sensor, card, status, footprint)\n",
    " - __parcels_2018__ : contains the parcel vectors of the working area, with their attributes; (e.g.: ogc_fid, id, parcel_idcrop_id, crop_type, ha, wkb_geometry)\n",
    " - __parcels_2018_signatures_CD__(e.g.: es2018_signatures_bs): contains extracted statistics for the combination of parcel vectors and CARD images (CD=bs for S1 backscattering coefficients, CD=c6 for S1 6 day coherence, CD=s2 for Sentinel-2 Level 2A)\n",
    " - __aois__: (optional) contains the monitoring areas of the member state.\n",
    " \n",
    "(spatial_ref_sys is a standard table in a postgis data base that contains spatial projection definitions)"
   ]
  },
  {
   "cell_type": "code",
   "execution_count": 1,
   "metadata": {},
   "outputs": [],
   "source": [
    "# import required libraries for this Notebook\n",
    "import psycopg2\n",
    "import pandas as pd\n",
    "from datetime import datetime\n",
    "from ipywidgets import widgets\n"
   ]
  },
  {
   "cell_type": "code",
   "execution_count": 2,
   "metadata": {},
   "outputs": [],
   "source": [
    "# Set the database credentials\n",
    "\n",
    "DB_HOST = '172.17.0.2'\n",
    "DB_NAME = 'postgres'\n",
    "DB_USER = 'postgres'\n",
    "DB_PORT = '5432'\n",
    "DB_PASS = ''\n",
    "DB_SCHE = 'public'\n",
    "\n",
    "conn_str = f\"host={DB_HOST} dbname={DB_NAME} user={DB_USER} port={DB_PORT} password={DB_PASS}\""
   ]
  },
  {
   "cell_type": "code",
   "execution_count": 3,
   "metadata": {},
   "outputs": [],
   "source": [
    "# Connect to the database\n",
    "conn = psycopg2.connect(conn_str)"
   ]
  },
  {
   "cell_type": "code",
   "execution_count": 4,
   "metadata": {},
   "outputs": [
    {
     "name": "stdout",
     "output_type": "stream",
     "text": [
      "(1772, datetime.datetime(2020, 12, 20, 11, 23, 59, 24000), 'S2B_MSIL2A_20201220T112359_N0214_R037_T29SMD_20201220T132403.SAFE', '2B', 's2', 'Obsolete', '0103000020E6100000010000000C000000E2B034F0A3EA23C0B200AD4EC6604340E6EB32FCA7E323C029CDD5ECBD664340516859F78FCD23C02F7A590A98794340CBD765F84FB723C0AFE56610718C43401842CEFBFFA023C072F7E8F64A9F43400AA2EE03908A23C0A23AC4F323B2434037FA980F087423C056C5D04FFDC443408D60E3FA775D23C06C6A9117D7D743403D0E83F92B5423C0098B5F3093DF43400169FF03ACC521C0525A91F206E04340919BE1067CC621C029E3D73C62614340E2B034F0A3EA23C0B200AD4EC6604340')\n",
      "(1771, datetime.datetime(2020, 12, 20, 11, 23, 59, 24000), 'S2B_MSIL2A_20201220T112359_N0214_R037_T29TPE_20201220T132403.SAFE', '2B', 's2', 'Obsolete', '0103000020E61000000100000005000000A738B302E8441FC0278E80CB8852444037FA980F08141AC09EC53C1CE64F4440DA1D520C90381AC0B6E7803C64D143404A9869FB57561FC0263C89DAEFD34340A738B302E8441FC0278E80CB88524440')\n"
     ]
    }
   ],
   "source": [
    "# Get a sample of the first rows of CARD images table ({dias_catalog}) without the use of pandas.\n",
    "\n",
    "# Create a \"cursor\" to allow Python code to execute PostgreSQL commands in a database session.\n",
    "# This is needed only if you don't use pandas\n",
    "\n",
    "getSampleList = f\"\"\"\n",
    "    SELECT * FROM dias_catalogue\n",
    "    LIMIT 2;\n",
    "\"\"\"\n",
    "\n",
    "cur = conn.cursor()\n",
    "cur.execute(getSampleList)\n",
    "\n",
    "for rows in cur:\n",
    "    print(rows)\n"
   ]
  },
  {
   "cell_type": "markdown",
   "metadata": {},
   "source": [
    "## Converting data to pandas dataframe\n",
    "\n",
    "Pandas takes data (like a CSV or TSV file, or a SQL database) and creates a Python object with rows and columns called data frame that looks very similar to table in a statistical software (like Excel or SPSS, with some similarities to R). This is easier to work with in comparison to working with lists and/or dictionaries through for loops or list comprehensions."
   ]
  },
  {
   "cell_type": "code",
   "execution_count": 16,
   "metadata": {},
   "outputs": [
    {
     "name": "stdout",
     "output_type": "stream",
     "text": [
      "('public', 'spatial_ref_sys', 'postgres', None, True, False, False, False)\n",
      "('topology', 'topology', 'postgres', None, True, False, True, False)\n",
      "('topology', 'layer', 'postgres', None, True, False, True, False)\n",
      "('public', 'dk2018_dias_catalogue', 'postgres', None, False, False, False, False)\n",
      "('fr', 'parcels_2020', 'postgres', None, False, False, False, False)\n",
      "('public', 'cat2020', 'postgres', None, True, False, False, False)\n",
      "('public', 'dk2018_s2_signatures', 'postgres', None, False, False, False, False)\n",
      "('public', 'dias_catalogue', 'postgres', None, False, False, False, False)\n",
      "('fr', 'sigs_2020', 'postgres', None, False, False, False, False)\n",
      "('fr', 'hists_2020', 'postgres', None, False, False, False, False)\n",
      "('public', 'cat2020_s2_signatures', 'postgres', None, True, False, False, False)\n",
      "('public', 'dk2018_bs_signatures', 'postgres', None, False, False, False, False)\n",
      "('public', 'aois', 'postgres', None, True, False, False, False)\n",
      "('public', 'cat2020_dias_catalogue', 'postgres', None, True, False, False, False)\n",
      "('public', 'dk2018_c6_signatures', 'postgres', None, False, False, False, False)\n",
      "('public', 'cat2020_sc_histograms', 'postgres', None, True, False, False, False)\n",
      "('public', 'croplabels', 'postgres', None, True, False, False, False)\n",
      "('public', 'dk2018', 'postgres', None, False, False, False, False)\n"
     ]
    }
   ],
   "source": [
    "# Get the tables list\n",
    "getTablesList = f\"\"\"\n",
    "SELECT *\n",
    "FROM pg_catalog.pg_tables\n",
    "WHERE schemaname != 'pg_catalog' AND \n",
    "    schemaname != 'information_schema';\n",
    "\"\"\"\n",
    "\n",
    "cur = conn.cursor()\n",
    "cur.execute(getSampleList)\n",
    "\n",
    "for rows in cur:\n",
    "    print(rows)\n"
   ]
  },
  {
   "cell_type": "code",
   "execution_count": 23,
   "metadata": {},
   "outputs": [
    {
     "data": {
      "text/html": [
       "<div>\n",
       "<style scoped>\n",
       "    .dataframe tbody tr th:only-of-type {\n",
       "        vertical-align: middle;\n",
       "    }\n",
       "\n",
       "    .dataframe tbody tr th {\n",
       "        vertical-align: top;\n",
       "    }\n",
       "\n",
       "    .dataframe thead th {\n",
       "        text-align: right;\n",
       "    }\n",
       "</style>\n",
       "<table border=\"1\" class=\"dataframe\">\n",
       "  <thead>\n",
       "    <tr style=\"text-align: right;\">\n",
       "      <th></th>\n",
       "      <th>id</th>\n",
       "      <th>obstime</th>\n",
       "      <th>reference</th>\n",
       "      <th>sensor</th>\n",
       "      <th>card</th>\n",
       "      <th>status</th>\n",
       "      <th>footprint</th>\n",
       "    </tr>\n",
       "  </thead>\n",
       "  <tbody>\n",
       "    <tr>\n",
       "      <th>0</th>\n",
       "      <td>1772</td>\n",
       "      <td>2020-12-20 11:23:59.024</td>\n",
       "      <td>S2B_MSIL2A_20201220T112359_N0214_R037_T29SMD_2...</td>\n",
       "      <td>2B</td>\n",
       "      <td>s2</td>\n",
       "      <td>Obsolete</td>\n",
       "      <td>0103000020E6100000010000000C000000E2B034F0A3EA...</td>\n",
       "    </tr>\n",
       "    <tr>\n",
       "      <th>1</th>\n",
       "      <td>1771</td>\n",
       "      <td>2020-12-20 11:23:59.024</td>\n",
       "      <td>S2B_MSIL2A_20201220T112359_N0214_R037_T29TPE_2...</td>\n",
       "      <td>2B</td>\n",
       "      <td>s2</td>\n",
       "      <td>Obsolete</td>\n",
       "      <td>0103000020E61000000100000005000000A738B302E844...</td>\n",
       "    </tr>\n",
       "  </tbody>\n",
       "</table>\n",
       "</div>"
      ],
      "text/plain": [
       "     id                 obstime  \\\n",
       "0  1772 2020-12-20 11:23:59.024   \n",
       "1  1771 2020-12-20 11:23:59.024   \n",
       "\n",
       "                                           reference sensor card    status  \\\n",
       "0  S2B_MSIL2A_20201220T112359_N0214_R037_T29SMD_2...     2B   s2  Obsolete   \n",
       "1  S2B_MSIL2A_20201220T112359_N0214_R037_T29TPE_2...     2B   s2  Obsolete   \n",
       "\n",
       "                                           footprint  \n",
       "0  0103000020E6100000010000000C000000E2B034F0A3EA...  \n",
       "1  0103000020E61000000100000005000000A738B302E844...  "
      ]
     },
     "execution_count": 23,
     "metadata": {},
     "output_type": "execute_result"
    }
   ],
   "source": [
    "# Get the first rows of the selected table within pandas dataframe:\n",
    "\n",
    "getSampleList = f\"\"\"\n",
    "    SELECT * FROM dias_catalogue\n",
    "    LIMIT 2\n",
    "\"\"\"\n",
    "\n",
    "# Read result set into a pandas dataframe\n",
    "df_SampleList = pd.read_sql_query(getSampleList,  conn)\n",
    "df_SampleList"
   ]
  },
  {
   "cell_type": "code",
   "execution_count": 24,
   "metadata": {},
   "outputs": [
    {
     "data": {
      "text/html": [
       "<div>\n",
       "<style scoped>\n",
       "    .dataframe tbody tr th:only-of-type {\n",
       "        vertical-align: middle;\n",
       "    }\n",
       "\n",
       "    .dataframe tbody tr th {\n",
       "        vertical-align: top;\n",
       "    }\n",
       "\n",
       "    .dataframe thead th {\n",
       "        text-align: right;\n",
       "    }\n",
       "</style>\n",
       "<table border=\"1\" class=\"dataframe\">\n",
       "  <thead>\n",
       "    <tr style=\"text-align: right;\">\n",
       "      <th></th>\n",
       "      <th>exact_count</th>\n",
       "    </tr>\n",
       "  </thead>\n",
       "  <tbody>\n",
       "    <tr>\n",
       "      <th>0</th>\n",
       "      <td>29817</td>\n",
       "    </tr>\n",
       "  </tbody>\n",
       "</table>\n",
       "</div>"
      ],
      "text/plain": [
       "   exact_count\n",
       "0        29817"
      ]
     },
     "execution_count": 24,
     "metadata": {},
     "output_type": "execute_result"
    }
   ],
   "source": [
    "# Get exact count of rows for the selected table.\n",
    "\n",
    "pgq_exact_count = f\"\"\"\n",
    "    SELECT count(*) AS exact_count\n",
    "    FROM public.dias_catalogue;\n",
    "    \"\"\"\n",
    "\n",
    "df_exact_count = pd.read_sql_query(pgq_exact_count, conn)\n",
    "df_exact_count"
   ]
  },
  {
   "cell_type": "code",
   "execution_count": 25,
   "metadata": {},
   "outputs": [
    {
     "data": {
      "text/html": [
       "<div>\n",
       "<style scoped>\n",
       "    .dataframe tbody tr th:only-of-type {\n",
       "        vertical-align: middle;\n",
       "    }\n",
       "\n",
       "    .dataframe tbody tr th {\n",
       "        vertical-align: top;\n",
       "    }\n",
       "\n",
       "    .dataframe thead th {\n",
       "        text-align: right;\n",
       "    }\n",
       "</style>\n",
       "<table border=\"1\" class=\"dataframe\">\n",
       "  <thead>\n",
       "    <tr style=\"text-align: right;\">\n",
       "      <th></th>\n",
       "      <th>total</th>\n",
       "      <th>ha</th>\n",
       "    </tr>\n",
       "  </thead>\n",
       "  <tbody>\n",
       "    <tr>\n",
       "      <th>0</th>\n",
       "      <td>493</td>\n",
       "      <td>86.131987</td>\n",
       "    </tr>\n",
       "  </tbody>\n",
       "</table>\n",
       "</div>"
      ],
      "text/plain": [
       "   total         ha\n",
       "0    493  86.131987"
      ]
     },
     "execution_count": 25,
     "metadata": {},
     "output_type": "execute_result"
    }
   ],
   "source": [
    "# Check parcel size distribution:\n",
    "\n",
    "getSizeDistributionSql = f\"\"\"\n",
    "    SELECT count(*) total, sum(st_area(wkb_geometry))/10000.0 ha\n",
    "    FROM cat2020\n",
    "    WHERE st_area(wkb_geometry) < 3000.0;\n",
    "\"\"\"\n",
    "\n",
    "df_sizeDist = pd.read_sql_query(getSizeDistributionSql, conn)\n",
    "df_sizeDist"
   ]
  },
  {
   "cell_type": "code",
   "execution_count": 31,
   "metadata": {},
   "outputs": [
    {
     "data": {
      "text/html": [
       "<div>\n",
       "<style scoped>\n",
       "    .dataframe tbody tr th:only-of-type {\n",
       "        vertical-align: middle;\n",
       "    }\n",
       "\n",
       "    .dataframe tbody tr th {\n",
       "        vertical-align: top;\n",
       "    }\n",
       "\n",
       "    .dataframe thead th {\n",
       "        text-align: right;\n",
       "    }\n",
       "</style>\n",
       "<table border=\"1\" class=\"dataframe\">\n",
       "  <thead>\n",
       "    <tr style=\"text-align: right;\">\n",
       "      <th></th>\n",
       "      <th>pid</th>\n",
       "      <th>obsid</th>\n",
       "      <th>band</th>\n",
       "      <th>count</th>\n",
       "      <th>mean</th>\n",
       "      <th>std</th>\n",
       "      <th>min</th>\n",
       "      <th>max</th>\n",
       "      <th>p25</th>\n",
       "      <th>p50</th>\n",
       "      <th>p75</th>\n",
       "    </tr>\n",
       "  </thead>\n",
       "  <tbody>\n",
       "    <tr>\n",
       "      <th>0</th>\n",
       "      <td>1000.0</td>\n",
       "      <td>734</td>\n",
       "      <td>B11</td>\n",
       "      <td>229.0</td>\n",
       "      <td>1658.0742</td>\n",
       "      <td>206.30470</td>\n",
       "      <td>967.0</td>\n",
       "      <td>2281.0</td>\n",
       "      <td>1530.0</td>\n",
       "      <td>1660.0</td>\n",
       "      <td>1786.0</td>\n",
       "    </tr>\n",
       "    <tr>\n",
       "      <th>1</th>\n",
       "      <td>1000.0</td>\n",
       "      <td>734</td>\n",
       "      <td>B12</td>\n",
       "      <td>229.0</td>\n",
       "      <td>1194.9912</td>\n",
       "      <td>163.90689</td>\n",
       "      <td>673.0</td>\n",
       "      <td>1745.0</td>\n",
       "      <td>1090.0</td>\n",
       "      <td>1184.0</td>\n",
       "      <td>1296.0</td>\n",
       "    </tr>\n",
       "    <tr>\n",
       "      <th>2</th>\n",
       "      <td>1000.0</td>\n",
       "      <td>730</td>\n",
       "      <td>B11</td>\n",
       "      <td>229.0</td>\n",
       "      <td>1601.5459</td>\n",
       "      <td>259.50046</td>\n",
       "      <td>339.0</td>\n",
       "      <td>2349.0</td>\n",
       "      <td>1458.0</td>\n",
       "      <td>1600.0</td>\n",
       "      <td>1737.0</td>\n",
       "    </tr>\n",
       "    <tr>\n",
       "      <th>3</th>\n",
       "      <td>1000.0</td>\n",
       "      <td>730</td>\n",
       "      <td>B12</td>\n",
       "      <td>229.0</td>\n",
       "      <td>1164.0393</td>\n",
       "      <td>208.87700</td>\n",
       "      <td>210.0</td>\n",
       "      <td>1861.0</td>\n",
       "      <td>1041.0</td>\n",
       "      <td>1151.0</td>\n",
       "      <td>1259.0</td>\n",
       "    </tr>\n",
       "  </tbody>\n",
       "</table>\n",
       "</div>"
      ],
      "text/plain": [
       "      pid  obsid band  count       mean        std    min     max     p25  \\\n",
       "0  1000.0    734  B11  229.0  1658.0742  206.30470  967.0  2281.0  1530.0   \n",
       "1  1000.0    734  B12  229.0  1194.9912  163.90689  673.0  1745.0  1090.0   \n",
       "2  1000.0    730  B11  229.0  1601.5459  259.50046  339.0  2349.0  1458.0   \n",
       "3  1000.0    730  B12  229.0  1164.0393  208.87700  210.0  1861.0  1041.0   \n",
       "\n",
       "      p50     p75  \n",
       "0  1660.0  1786.0  \n",
       "1  1184.0  1296.0  \n",
       "2  1600.0  1737.0  \n",
       "3  1151.0  1259.0  "
      ]
     },
     "execution_count": 31,
     "metadata": {},
     "output_type": "execute_result"
    }
   ],
   "source": [
    "# Get signatures for a parcel from database in a dataframe:\n",
    "\n",
    "parcel_id = 1000\n",
    "\n",
    "getSignaturesSql = f\"\"\"\n",
    "    SELECT * FROM cat2020_s2_signatures\n",
    "    WHERE pid={parcel_id} LIMIT 4;\n",
    "\"\"\"\n",
    "\n",
    "df_signatures = pd.read_sql_query(getSignaturesSql,  conn)\n",
    "df_signatures"
   ]
  },
  {
   "cell_type": "code",
   "execution_count": null,
   "metadata": {},
   "outputs": [],
   "source": [
    "# Select an Area of Interest:\n",
    "\n",
    "aois_list = database.table_data(aois_table, 1)['name'].tolist() # Get the tables as python list\n",
    "aoi_name = widgets.Dropdown(options=aois_list, description=\"AOI: \")\n",
    "print(\"Select the aoi to display information.\")\n",
    "aoi_name\n",
    "\n",
    "# Use with: aoi_name.value"
   ]
  },
  {
   "cell_type": "code",
   "execution_count": 34,
   "metadata": {},
   "outputs": [
    {
     "data": {
      "text/html": [
       "<div>\n",
       "<style scoped>\n",
       "    .dataframe tbody tr th:only-of-type {\n",
       "        vertical-align: middle;\n",
       "    }\n",
       "\n",
       "    .dataframe tbody tr th {\n",
       "        vertical-align: top;\n",
       "    }\n",
       "\n",
       "    .dataframe thead th {\n",
       "        text-align: right;\n",
       "    }\n",
       "</style>\n",
       "<table border=\"1\" class=\"dataframe\">\n",
       "  <thead>\n",
       "    <tr style=\"text-align: right;\">\n",
       "      <th></th>\n",
       "      <th>reference</th>\n",
       "      <th>obstime</th>\n",
       "      <th>st_astext</th>\n",
       "    </tr>\n",
       "  </thead>\n",
       "  <tbody>\n",
       "  </tbody>\n",
       "</table>\n",
       "</div>"
      ],
      "text/plain": [
       "Empty DataFrame\n",
       "Columns: [reference, obstime, st_astext]\n",
       "Index: []"
      ]
     },
     "execution_count": 34,
     "metadata": {},
     "output_type": "execute_result"
    }
   ],
   "source": [
    "# Get some rows of CARD images metadata:\n",
    "aoi_name = 'parcels_2020'\n",
    "\n",
    "getMetadataSql = f\"\"\"\n",
    "    SELECT reference, obstime, st_astext(footprint)\n",
    "    FROM dias_catalogue, aois\n",
    "    WHERE footprint && wkb_geometry\n",
    "    And name = '{aoi_name}'\n",
    "    And st_intersects(footprint, wkb_geometry)\n",
    "    ORDER by obstime limit 4;\n",
    "\"\"\"\n",
    "\n",
    "# Read result set into a pandas dataframe\n",
    "df_metadata = pd.read_sql_query(getMetadataSql, conn)\n",
    "df_metadata"
   ]
  },
  {
   "cell_type": "code",
   "execution_count": 36,
   "metadata": {},
   "outputs": [
    {
     "data": {
      "text/html": [
       "<div>\n",
       "<style scoped>\n",
       "    .dataframe tbody tr th:only-of-type {\n",
       "        vertical-align: middle;\n",
       "    }\n",
       "\n",
       "    .dataframe tbody tr th {\n",
       "        vertical-align: top;\n",
       "    }\n",
       "\n",
       "    .dataframe thead th {\n",
       "        text-align: right;\n",
       "    }\n",
       "</style>\n",
       "<table border=\"1\" class=\"dataframe\">\n",
       "  <thead>\n",
       "    <tr style=\"text-align: right;\">\n",
       "      <th></th>\n",
       "      <th>card</th>\n",
       "      <th>count</th>\n",
       "    </tr>\n",
       "  </thead>\n",
       "  <tbody>\n",
       "  </tbody>\n",
       "</table>\n",
       "</div>"
      ],
      "text/plain": [
       "Empty DataFrame\n",
       "Columns: [card, count]\n",
       "Index: []"
      ]
     },
     "execution_count": 36,
     "metadata": {},
     "output_type": "execute_result"
    }
   ],
   "source": [
    "# Get the total number of CARD images for the selected aoi:\n",
    "\n",
    "getCARDCountSql = f\"\"\"\n",
    "    SELECT card, count(*) FROM dias_catalogue, aois\n",
    "    WHERE footprint && wkb_geometry\n",
    "    And name = '{aoi_name}'\n",
    "    GROUP by card;\n",
    "\"\"\"\n",
    "\n",
    "# Read result set into a pandas dataframe\n",
    "df_card_count = pd.read_sql_query(getCARDCountSql, conn)\n",
    "df_card_count"
   ]
  },
  {
   "cell_type": "code",
   "execution_count": 37,
   "metadata": {},
   "outputs": [
    {
     "data": {
      "text/html": [
       "<div>\n",
       "<style scoped>\n",
       "    .dataframe tbody tr th:only-of-type {\n",
       "        vertical-align: middle;\n",
       "    }\n",
       "\n",
       "    .dataframe tbody tr th {\n",
       "        vertical-align: top;\n",
       "    }\n",
       "\n",
       "    .dataframe thead th {\n",
       "        text-align: right;\n",
       "    }\n",
       "</style>\n",
       "<table border=\"1\" class=\"dataframe\">\n",
       "  <thead>\n",
       "    <tr style=\"text-align: right;\">\n",
       "      <th></th>\n",
       "      <th>sensor</th>\n",
       "      <th>card</th>\n",
       "      <th>status</th>\n",
       "      <th>count</th>\n",
       "    </tr>\n",
       "  </thead>\n",
       "  <tbody>\n",
       "  </tbody>\n",
       "</table>\n",
       "</div>"
      ],
      "text/plain": [
       "Empty DataFrame\n",
       "Columns: [sensor, card, status, count]\n",
       "Index: []"
      ]
     },
     "execution_count": 37,
     "metadata": {},
     "output_type": "execute_result"
    }
   ],
   "source": [
    "# Get the total number of CARD images for the selected aoi and date sorted by sensor, card type and status:\n",
    "start_date = '01-01-2020'\n",
    "end_date = '05-05-2020'\n",
    "\n",
    "\n",
    "getRowCountSql = f\"\"\"\n",
    "    SELECT sensor, card, status, count(*)\n",
    "    FROM dias_catalogue, aois\n",
    "    WHERE footprint && wkb_geometry\n",
    "    And name = '{aoi_name}'\n",
    "    And obstime between '{start_date}' and '{end_date}'\n",
    "    GROUP by sensor, card, status\n",
    "    ORDER by sensor, card, status\n",
    "\"\"\"\n",
    "\n",
    "# Read result set into a pandas dataframe\n",
    "df_rowcount = pd.read_sql_query(getRowCountSql, conn)\n",
    "df_rowcount"
   ]
  },
  {
   "cell_type": "markdown",
   "metadata": {},
   "source": [
    "**The following examples need the field \"crop type\", in case this field is in a different table follow the examples given in the notebook \"\" for how to join the tables.**"
   ]
  },
  {
   "cell_type": "code",
   "execution_count": null,
   "metadata": {},
   "outputs": [],
   "source": [
    "# Get a time series for a specific parcel:\n",
    "\n",
    "crop_type_column = ''\n",
    "parcels_table = ''\n",
    "parcel_id = 441210\n",
    "bs_signatures = 'signatures_2020_bs'\n",
    "\n",
    "getTimeSeriesSql = f\"\"\"\n",
    "    SELECT obstime, band, ogc_fid::int, {crop_type_column}, \n",
    "    mean, std, count, st_area(wkb_geometry)/10000 As ha \n",
    "    FROM dias_catalogue dc, {parcels_table} parcels, \n",
    "    {bs_signatures} bs\n",
    "    WHERE dc.id = bs.obsid \n",
    "    And parcels.ogc_fid = bs.pid\n",
    "    And parcels.ogc_fid = {parcel_id}\n",
    "    ORDER by obstime asc\n",
    "    LIMIT 2;\n",
    "\"\"\"\n",
    "\n",
    "# Read result set into a pandas dataframe\n",
    "df_timeseries = pd.read_sql_query(getTimeSeriesSql,  conn)\n",
    "df_timeseries"
   ]
  },
  {
   "cell_type": "code",
   "execution_count": null,
   "metadata": {},
   "outputs": [],
   "source": [
    "# Format the geometry into something more readable, as do some on-the-fly calculation\n",
    "# and sample from the table randomly:\n",
    "\n",
    "getParcelSpecs2Sql = f\"\"\"\n",
    "    SELECT ogc_fid::int as pid, {crop_type_column},\n",
    "    ST_astext(wkb_geometry) as parcel, \n",
    "    ST_area(wkb_geometry)/10000 as ha\n",
    "    FROM {parcels_table} \n",
    "    tablesample system (1.0)  -- This select a 1% random sample, so should give different results for each run\n",
    "    WHERE st_area(wkb_geometry) > 10000.0   -- This ensures we only select parcels > 1 ha\n",
    "    LIMIT 2;\n",
    "\"\"\"\n",
    "\n",
    "df_parcelspecs = pd.read_sql_query(getParcelSpecs2Sql, conn)\n",
    "df_parcelspecs"
   ]
  },
  {
   "cell_type": "code",
   "execution_count": null,
   "metadata": {},
   "outputs": [],
   "source": [
    "# Get parcels SRID.\n",
    "\n",
    "pgq_srid = f\"\"\"\n",
    "    SELECT ST_SRID(wkb_geometry) FROM {parcels_table} LIMIT 1;\n",
    "    \"\"\"\n",
    "\n",
    "df_srid = pd.read_sql_query(pgq_srid, conn)\n",
    "srid = df_srid['st_srid'][0]\n",
    "print(\"SRID: \", srid)"
   ]
  },
  {
   "cell_type": "code",
   "execution_count": null,
   "metadata": {},
   "outputs": [],
   "source": [
    "# Check how many parcels are in a particular aoi:\n",
    "# Note: this query may take some time.\n",
    "srid = ''\n",
    "\n",
    "getParcelsPerAoiSql = f\"\"\"\n",
    "    SELECT name, count(parcels.ogc_fid) total, sum(st_area(parcels.wkb_geometry))/10000.0 ha\n",
    "    FROM {parcels_table} parcels, aois\n",
    "    WHERE parcels.wkb_geometry && st_transform(aois.wkb_geometry, {srid})\n",
    "    GROUP by name;\n",
    "\"\"\"\n",
    "\n",
    "df_ParcelsPerAoi = pd.read_sql_query(getParcelsPerAoiSql, conn)\n",
    "df_ParcelsPerAoi"
   ]
  },
  {
   "cell_type": "code",
   "execution_count": null,
   "metadata": {},
   "outputs": [],
   "source": [
    "#(OPTIONAL) Export dataframe to csv file (Change 'df' with the name of the dataframe to be exported).\n",
    "df.to_csv(config_ui.folder_data + \"/dataframe_01.csv\")"
   ]
  },
  {
   "cell_type": "code",
   "execution_count": null,
   "metadata": {},
   "outputs": [],
   "source": [
    "# Close database connection\n",
    "conn.close()"
   ]
  },
  {
   "cell_type": "code",
   "execution_count": null,
   "metadata": {},
   "outputs": [],
   "source": []
  }
 ],
 "metadata": {
  "kernelspec": {
   "display_name": "Python 3",
   "language": "python",
   "name": "python3"
  },
  "language_info": {
   "codemirror_mode": {
    "name": "ipython",
    "version": 3
   },
   "file_extension": ".py",
   "mimetype": "text/x-python",
   "name": "python",
   "nbconvert_exporter": "python",
   "pygments_lexer": "ipython3",
   "version": "3.9.2"
  }
 },
 "nbformat": 4,
 "nbformat_minor": 4
}
