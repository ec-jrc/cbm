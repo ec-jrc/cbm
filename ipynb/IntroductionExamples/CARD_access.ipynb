{
 "cells": [
  {
   "cell_type": "markdown",
   "metadata": {},
   "source": [
    "# Object Storage\n",
    "\n",
    "DIAS instances store both the original Sentinel data (as downloaded from ESA Copernicus hub) and the processed CARD products on object storage. The CREODIAS, MUNDI and SOBLOO instances use S3 storage, which is similar to the storage solution used by Amazon Web Services (AWS). ONDA uses ENS. In all cases, there is a need to discover and transfer the required product from object storage to the disks attached to the VMs, in order to process the data.\n",
    "\n",
    "S3 store access requires access credentials that are typically created at DIAS account setup. The credentials, together with the S3 host and bucket details need to be provided to the access protocol that is used to access the data, for instance, inside a python script that transfers the data to disk. \n"
   ]
  },
  {
   "cell_type": "code",
   "execution_count": 1,
   "metadata": {},
   "outputs": [],
   "source": [
    "# import required libraries for this Notebook\n",
    "import os\n",
    "import boto3\n",
    "import botocore\n",
    "import rasterio\n",
    "from ipywidgets import widgets, HBox, Layout\n"
   ]
  },
  {
   "cell_type": "code",
   "execution_count": 2,
   "metadata": {},
   "outputs": [],
   "source": [
    "# Set the s3 credentials\n",
    "ACCESS_KEY = \"\"\n",
    "SECRET_KEY = \"\"\n",
    "S3HOST = \"\"\n",
    "BUCKET = \"\"\n",
    "SERVICE_PROVIDER = ''\n",
    "\n",
    "# Conect to s3 store\n",
    "session = boto3.session.Session(aws_access_key_id=ACCESS_KEY,\n",
    "                                aws_secret_access_key=SECRET_KEY)"
   ]
  },
  {
   "cell_type": "code",
   "execution_count": 3,
   "metadata": {},
   "outputs": [
    {
     "data": {
      "text/plain": [
       "['daas-perf',\n",
       " 'daas-prod-css',\n",
       " 'dias-ops-xchange',\n",
       " 'dias-perf-srtmv41',\n",
       " 'sps-input']"
      ]
     },
     "execution_count": 3,
     "metadata": {},
     "output_type": "execute_result"
    }
   ],
   "source": [
    "# list_buckets\n",
    "def get_buckets(print_list=False):\n",
    "    \"\"\"Retrieve a list of existing buckets in the object storage\"\"\"\n",
    "    try:\n",
    "        s3 = session.client('s3', endpoint_url=S3HOST)\n",
    "\n",
    "        buckets = s3.list_buckets()\n",
    "        bucket_list = [BUCKET]\n",
    "        for bucket_ in buckets['Buckets']:\n",
    "            bucket_list.append(bucket_['Name'])\n",
    "        if print_list is True:\n",
    "            for b_ in buckets['Buckets']:\n",
    "                print(b_)\n",
    "        return bucket_list\n",
    "\n",
    "    except Exception as err:\n",
    "        print(f\"Could not retrieve list of the buckets: {err}\")\n",
    "get_buckets()"
   ]
  },
  {
   "cell_type": "markdown",
   "metadata": {},
   "source": [
    "**Note: Boto3 can not retrieve public buckets. If the bucket is public set the bucket name manually in the 'Buckets' widget or set the 'BUCKET' variable.**\n"
   ]
  },
  {
   "cell_type": "code",
   "execution_count": 4,
   "metadata": {},
   "outputs": [
    {
     "data": {
      "application/vnd.jupyter.widget-view+json": {
       "model_id": "6adf3a96c04d415e80a9af210564ec13",
       "version_major": 2,
       "version_minor": 0
      },
      "text/plain": [
       "VBox(children=(HBox(children=(Dropdown(description='DIAS Provider: ', index=3, options=('', 'CREODIAS', 'MUNDI…"
      ]
     },
     "metadata": {},
     "output_type": "display_data"
    }
   ],
   "source": [
    "# Set search parameters\n",
    "\n",
    "bucket_list = widgets.Combobox(value=None, placeholder='select a backet',\n",
    "    options=get_buckets(), description='Buckets:', ensure_option=True)\n",
    "dias = widgets.Dropdown(\n",
    "    options=['', 'CREODIAS', 'MUNDI', 'SOBLOO', 'ONDA', 'WEKEO', 'EOSC'],\n",
    "    description='DIAS Provider: ', value='')\n",
    "only_images = widgets.Checkbox(value=True, description='Show only images')\n",
    "check_for_hdr = widgets.Checkbox(value=False, description='Check for header file')\n",
    "prefix = widgets.Text(placeholder='Prefix (Path)', description='Prefix:', layout=Layout(width='50%'))\n",
    "\n",
    "options = widgets.VBox([widgets.HBox([dias, bucket_list]), prefix, widgets.HBox([only_images, check_for_hdr])])\n",
    "options\n",
    "\n",
    "# To filter the results use a prefix path (e.g. 'Sentinel-2/MSI/L1C/2018/12/08/', 'S2B/ ').\n",
    "# SOBLOO example:\n",
    "# das-add-data/Breizh-S2/tiles/30/U/WU/S2A_MSIL1C_20190316T112111_N0207_R037_T30UWU_20190316T132306.SAFE"
   ]
  },
  {
   "cell_type": "code",
   "execution_count": 5,
   "metadata": {},
   "outputs": [
    {
     "data": {
      "application/vnd.jupyter.widget-view+json": {
       "model_id": "3ab0ac1ef73b4cc5b9a655782088a541",
       "version_major": 2,
       "version_minor": 0
      },
      "text/plain": [
       "Dropdown(description='Bucket files:', layout=Layout(width='50%'), options=('T30UWU_20170601T110651_B01.jp2', '…"
      ]
     },
     "metadata": {},
     "output_type": "display_data"
    }
   ],
   "source": [
    "# Get a list of files in the selected backet and location\n",
    "def get_file_list(prefix='', print_list=False):\n",
    "    \"\"\"Displays the contents of a single bucket\"\"\"\n",
    "    try:\n",
    "        file_list =[]\n",
    "        s3 = session.client('s3', endpoint_url=S3HOST)\n",
    "        bucket_files = s3.list_objects_v2(\n",
    "            Bucket=bucket_list.value, Prefix=prefix)['Contents']\n",
    "        if print_list is True:\n",
    "            for key in bucket_files:\n",
    "                print(key)\n",
    "        if only_images.value is True:\n",
    "            for f in bucket_files:\n",
    "                file = f['Key'].replace(prefix, '', 1)\n",
    "                if file.lower().endswith(('.png', '.jpg', '.jpeg', '.tiff',\n",
    "                                           '.bmp', '.gif', '.tif', '.img', 'jp2')):\n",
    "                    file_list.append(file)\n",
    "        else:\n",
    "            file_list = [f['Key'] for f in bucket_files]\n",
    "        return file_list\n",
    "    except Exception as err:\n",
    "        print(\n",
    "            f\"Could not retrieve list of the files from the selected buckets: {err}\")\n",
    "\n",
    "\n",
    "file_list = widgets.Dropdown(options=get_file_list(prefix.value), description='Bucket files:', layout=Layout(width='50%'))\n",
    "file_list"
   ]
  },
  {
   "cell_type": "markdown",
   "metadata": {},
   "source": [
    "**Note:** The image to be recognized as 'geo' image, depending of the file type, it may need an extra headers file that contains the geographic information of the image, the headers information file usually have an .hdr extension.\n",
    "\n",
    "In case it is needed to download the headers file, check the the checkbox \"Check for header file\" to try download the headers file."
   ]
  },
  {
   "cell_type": "code",
   "execution_count": 8,
   "metadata": {},
   "outputs": [
    {
     "name": "stdout",
     "output_type": "stream",
     "text": [
      "-- File to be downloaded from object storage:\n",
      " das-add-data/Breizh-S2/tiles/30/U/WU/S2A_MSIL1C_20170601T110651_N0205_R137_T30UWU_20170601T111225.SAFE/GRANULE/L1C_T30UWU_A010144_20170601T111225/IMG_DATA/T30UWU_20170601T110651_B03.jp2 \n",
      "\n",
      "-- The file will be stored in:\n",
      " temp/sample_image_from_object_storage.img\n",
      "\n"
     ]
    }
   ],
   "source": [
    "# A sample script to test downloading from s3 object storage.\n",
    "# Select a new name for the file (e.g. 'sample_image').\n",
    "file_name = \"sample_image_from_object_storage\"\n",
    "\n",
    "# Get the selected image.\n",
    "s3image = f\"{prefix.value}{file_list.value}\"\n",
    "\n",
    "# Name of the image file to be stored in data folder\n",
    "localimg = f\"temp/{file_name}.img\"\n",
    "\n",
    "os.makedirs(\"temp\", exist_ok=True)\n",
    "print(\"-- File to be downloaded from object storage:\\n\", s3image, '\\n')\n",
    "print(\"-- The file will be stored in:\\n\", localimg)\n",
    "print()"
   ]
  },
  {
   "cell_type": "code",
   "execution_count": 9,
   "metadata": {},
   "outputs": [
    {
     "name": "stdout",
     "output_type": "stream",
     "text": [
      "File downloaded as:  temp/sample_image_from_object_storage.img\n"
     ]
    }
   ],
   "source": [
    "# Download image and image information file\n",
    "def get_file(s3file, localfile, bucket_name, progress_bar=False, to_memory=False, status=False):\n",
    "    \n",
    "    \"\"\"Download a file from the s3 storage\"\"\"\n",
    "    s3 = session.resource('s3', endpoint_url=S3HOST)\n",
    "    bucket_ = s3.Bucket(bucket_name)\n",
    "    object_ = bucket_.Object(s3file)\n",
    "\n",
    "    try:\n",
    "        s3.Bucket(bucket_name).download_file(s3file, localfile)\n",
    "        print(\"File downloaded as: \", localfile)\n",
    "        return 0\n",
    "    except botocore.exceptions.ClientError as e:\n",
    "        if e.response['Error']['Code'] == \"404\":\n",
    "            print(\"The object does not exist.\")\n",
    "            return 1\n",
    "        else:\n",
    "            raise\n",
    "\n",
    "get_file(s3image, localimg, bucket_list.value)\n",
    "\n",
    "# Get the selected image header file (Comment if not applicable).\n",
    "if check_for_hdr.value is True:\n",
    "    try:\n",
    "        s3header = os.path.splitext(s3image)[0] + \".hdr\"\n",
    "        localhdr = f\"temp/{file_name}.hdr\"\n",
    "        get_file(s3header, localhdr, bucket_name.value)\n",
    "    except Exception:\n",
    "        print(\"No header file found.\")\n"
   ]
  },
  {
   "cell_type": "markdown",
   "metadata": {},
   "source": [
    "**Run the below cell to check if the image is correctly downloaded and recognized as an geo image file.**"
   ]
  },
  {
   "cell_type": "code",
   "execution_count": 10,
   "metadata": {},
   "outputs": [
    {
     "name": "stdout",
     "output_type": "stream",
     "text": [
      "10980 10980\n",
      "EPSG:32630\n",
      "| 10.00, 0.00, 499980.00|\n",
      "| 0.00,-10.00, 5400000.00|\n",
      "| 0.00, 0.00, 1.00|\n",
      "1\n",
      "(1,)\n"
     ]
    }
   ],
   "source": [
    "# Get information for the downloaded raster image\n",
    "with rasterio.open(localimg) as src:\n",
    "    print(src.width, src.height)\n",
    "    print(src.crs)\n",
    "    print(src.transform)\n",
    "    print(src.count)\n",
    "    print(src.indexes)"
   ]
  },
  {
   "cell_type": "code",
   "execution_count": null,
   "metadata": {},
   "outputs": [],
   "source": []
  }
 ],
 "metadata": {
  "kernelspec": {
   "display_name": "Python 3",
   "language": "python",
   "name": "python3"
  },
  "language_info": {
   "codemirror_mode": {
    "name": "ipython",
    "version": 3
   },
   "file_extension": ".py",
   "mimetype": "text/x-python",
   "name": "python",
   "nbconvert_exporter": "python",
   "pygments_lexer": "ipython3",
   "version": "3.9.2"
  }
 },
 "nbformat": 4,
 "nbformat_minor": 4
}
