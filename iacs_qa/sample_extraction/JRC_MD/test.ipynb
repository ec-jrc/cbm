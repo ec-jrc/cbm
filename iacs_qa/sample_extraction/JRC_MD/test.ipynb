{
 "cells": [
  {
   "cell_type": "markdown",
   "metadata": {},
   "source": [
    "\n",
    "Sure, I'll provide an example of a Jupyter Notebook cell that incorporates all your requirements. Here's what the cell will do:\n",
    "\n",
    "User Interface: Use graphical widgets for setting initial values of a dictionary. The dictionary will have string keys and integer values.\n",
    "Processing: In a loop, randomly increase the value of a random key in the dictionary by a random amount (between 1 and 5).\n",
    "Visualization: Display the updated dictionary values in real-time as the loop iterates.\n",
    "For this example, I'll use Python with libraries such as ipywidgets for interactive widgets and IPython.display for dynamic updates in the Jupyter Notebook. Here's the code:\n",
    "\n",
    "python\n",
    "Copy code"
   ]
  },
  {
   "cell_type": "code",
   "execution_count": 20,
   "metadata": {},
   "outputs": [
    {
     "data": {
      "application/vnd.jupyter.widget-view+json": {
       "model_id": "231dc066373b413c845e1e3bce892563",
       "version_major": 2,
       "version_minor": 0
      },
      "text/plain": [
       "Button(description='Display target threshold', style=ButtonStyle())"
      ]
     },
     "metadata": {},
     "output_type": "display_data"
    },
    {
     "data": {
      "application/vnd.jupyter.widget-view+json": {
       "model_id": "049d10d891b543a3b6329f248f1fa6a7",
       "version_major": 2,
       "version_minor": 0
      },
      "text/plain": [
       "FloatSlider(value=100.0, description='Intervention target threshold', style=SliderStyle(description_width='ini…"
      ]
     },
     "metadata": {},
     "output_type": "display_data"
    },
    {
     "data": {
      "application/vnd.jupyter.widget-view+json": {
       "model_id": "c659e46b637b44aea9a57be6521300cc",
       "version_major": 2,
       "version_minor": 0
      },
      "text/plain": [
       "FloatSlider(value=3.0, description='Holding target threshold', style=SliderStyle(description_width='initial'))"
      ]
     },
     "metadata": {},
     "output_type": "display_data"
    },
    {
     "data": {
      "application/vnd.jupyter.widget-view+json": {
       "model_id": "ee7a761418664ffab23c6a35803d846b",
       "version_major": 2,
       "version_minor": 0
      },
      "text/plain": [
       "FloatSlider(value=0.03, description='Holding percentage cutoff', style=SliderStyle(description_width='initial'…"
      ]
     },
     "metadata": {},
     "output_type": "display_data"
    },
    {
     "data": {
      "application/vnd.jupyter.widget-view+json": {
       "model_id": "a89f9d17be99400f8ee8189139813f10",
       "version_major": 2,
       "version_minor": 0
      },
      "text/plain": [
       "Label(value='')"
      ]
     },
     "metadata": {},
     "output_type": "display_data"
    }
   ],
   "source": [
    "# countries: ['mt'] # Country code\n",
    "# # options:\n",
    "# # [\"at\",\"befl\",\"bewa\",\"bg\",\"cy\",\"cz\",\"de\",\"dk\",\"ee\",\"es\",\"fi\",\"fr\",\"hr\",\"hu\",\"ie\",\"it\",\"lt\",\"lu\",\"lv\",\"mt\",\"nl\",\"pl\",\"pt\",\"ro\",\"se\",\"si\",\"sk\"]\n",
    "\n",
    "# constraints:  \n",
    "\n",
    "#   intervention_target:\n",
    "#     active: True    # False will skip this contraint, True will limit the number of parcels per intervention to the value below\n",
    "#     max: 300\n",
    "\n",
    "#   holding_target:\n",
    "#     active: True    # False will skip this contraint, True will prioritize the number of parcels per holding to the value below\n",
    "#     max: 3\n",
    "\n",
    "#   holding_percentage:\n",
    "#     active:  False  # False will skip this contraint, True will limit the number of unique holdings per intervention to the value below\n",
    "#     max: 0.03       # percentage of the total\n",
    "\n",
    "#   image_coverage:\n",
    "#     active: True    # False will consider all parcels, True will take only the parcels covered by HR images\n",
    "    \n",
    "# output:\n",
    "#   path: ./output    # The output folder can be relative or absolute path\n",
    "#   suffix: STATS_300\n",
    "#   temporary: False  # True will keep the temporary files, False will delete the tmp folder at the end of processing\n",
    "\n",
    "from ipywidgets import IntSlider, FloatSlider, Label, HBox, VBox, Layout, interactive, widgets\n",
    "\n",
    "style = {'description_width': 'initial'}\n",
    "\n",
    "target_threshold_entry = widgets.FloatSlider(value=300.0, description = \"Intervention target threshold\", style=style)\n",
    "holding_target_entry = widgets.FloatSlider(value=3.0, description = \"Holding target threshold\", style=style)\n",
    "holding_percentage_entry = widgets.FloatSlider(value=0.03, description = \"Holding percentage cutoff\", style=style)\n",
    "\n",
    "button = widgets.Button(description='Display target threshold')\n",
    "result_label = widgets.Label()\n",
    "\n",
    "def on_add_button_clicked(b):\n",
    "    result = target_threshold_entry.value\n",
    "    result_label.value = f'Result: {result}'\n",
    "\n",
    "button.on_click(on_add_button_clicked)\n",
    "\n",
    "display(button, target_threshold_entry, holding_target_entry, holding_percentage_entry, result_label)\n",
    "# display()\n",
    "# display()\n",
    "# display()"
   ]
  },
  {
   "cell_type": "code",
   "execution_count": 21,
   "metadata": {},
   "outputs": [
    {
     "data": {
      "application/vnd.jupyter.widget-view+json": {
       "model_id": "6b255b77b67d4b149a20d939a64ec556",
       "version_major": 2,
       "version_minor": 0
      },
      "text/plain": [
       "VBox(children=(FloatLogSlider(value=1.0, description='Param1:', max=1.0, min=-1.0), IntRangeSlider(value=(-10,…"
      ]
     },
     "execution_count": 21,
     "metadata": {},
     "output_type": "execute_result"
    }
   ],
   "source": [
    "import ipywidgets as widgets\n",
    "from IPython.display import display\n",
    "\n",
    "# Create some widgets\n",
    "param1 = widgets.FloatLogSlider(value=1.0, base=10, min=-1, max=1, description='Param1:')\n",
    "param2 = widgets.IntRangeSlider(value=[-10, 10], min=-100, max=100, description='Param2:')\n",
    "submit_button = widgets.Button(description='Submit')\n",
    "output_area = widgets.Output()\n",
    "\n",
    "# Define the button click event\n",
    "def submit_clicked(b):\n",
    "    with output_area:\n",
    "        clear_output()\n",
    "        print(f\"Param1: {param1.value}, Param2: {param2.value}\")\n",
    "\n",
    "submit_button.on_click(submit_clicked)\n",
    "\n",
    "# Use a VBox to arrange them vertically\n",
    "widgets.VBox([param1, param2, submit_button, output_area])"
   ]
  },
  {
   "cell_type": "code",
   "execution_count": 22,
   "metadata": {},
   "outputs": [
    {
     "name": "stdout",
     "output_type": "stream",
     "text": [
      "also done\n"
     ]
    }
   ],
   "source": [
    "print(\"also done\")"
   ]
  },
  {
   "cell_type": "code",
   "execution_count": null,
   "metadata": {},
   "outputs": [],
   "source": [
    "print(\"done.\")"
   ]
  }
 ],
 "metadata": {
  "kernelspec": {
   "display_name": "Python 3",
   "language": "python",
   "name": "python3"
  },
  "language_info": {
   "codemirror_mode": {
    "name": "ipython",
    "version": 3
   },
   "file_extension": ".py",
   "mimetype": "text/x-python",
   "name": "python",
   "nbconvert_exporter": "python",
   "pygments_lexer": "ipython3",
   "version": "3.12.2"
  }
 },
 "nbformat": 4,
 "nbformat_minor": 2
}
