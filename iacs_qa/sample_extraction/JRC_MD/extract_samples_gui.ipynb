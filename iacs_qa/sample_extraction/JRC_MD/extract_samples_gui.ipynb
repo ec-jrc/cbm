{
 "cells": [
  {
   "cell_type": "markdown",
   "metadata": {},
   "source": [
    "# JRC Sample Extraction\n",
    "<div>\n",
    "<img src=\"jrc_ec_logo.jpg\" width=\"400\"/>\n",
    "</div>\n",
    "\n",
    "Solution that selects inspection samples for the quality assessments (QA) of the Area Monitoring System (AMS) and GeoSpatial Application (GSA) \n",
    "\n",
    "[INTRODUCTION + GENERAL INSTRUCTIONS HERE]\n",
    "\n",
    "Authors: Fernando Fahl (fernando.fahl@ext.ec.europa.eu), Mateusz Dobrychłop (mateusz.dobrychlop@ext.ec.europa.eu), Ferdinando Urbano (ferdinando.urbano@ec.europa.eu)"
   ]
  },
  {
   "cell_type": "markdown",
   "metadata": {},
   "source": [
    "## Load parcel list"
   ]
  },
  {
   "cell_type": "markdown",
   "metadata": {},
   "source": [
    "Run the code cell below to display a set of widgets that will allow you to select your input file.\n",
    "\n",
    "[INSTRUCTIONS + PARCEL FILE FORMATTING HERE]"
   ]
  },
  {
   "cell_type": "code",
   "execution_count": 1,
   "metadata": {},
   "outputs": [
    {
     "data": {
      "text/html": [
       "\n",
       "<style>\n",
       "    .info-button-style {\n",
       "        border-radius: 50%;  /* Makes the button circular */\n",
       "    }\n",
       "    .info-button-style:hover {\n",
       "        box-shadow: none !important;  /* Removes shadow on hover */\n",
       "        transform: none !important;  /* Stops any popping or scaling */\n",
       "        cursor: default;  /* Removes the hand cursor */\n",
       "    }\n",
       "</style>\n"
      ],
      "text/plain": [
       "<IPython.core.display.HTML object>"
      ]
     },
     "metadata": {},
     "output_type": "display_data"
    },
    {
     "data": {
      "application/vnd.jupyter.widget-view+json": {
       "model_id": "612fb3dad2334f30a733a0c207c31ce6",
       "version_major": 2,
       "version_minor": 0
      },
      "text/plain": [
       "VBox(children=(HBox(children=(Button(icon='info', layout=Layout(width='30px'), style=ButtonStyle(), tooltip='I…"
      ]
     },
     "metadata": {},
     "output_type": "display_data"
    }
   ],
   "source": [
    "import sample_extraction_gui as gui\n",
    "uploaded_files = gui.display_parcel_input_config()\n",
    "\n",
    "# input/MT_parcels_new.csv"
   ]
  },
  {
   "cell_type": "markdown",
   "metadata": {},
   "source": [
    "## Define bucket targets"
   ]
  },
  {
   "cell_type": "markdown",
   "metadata": {},
   "source": [
    "Run the code cell below to display a set of widgets that will allow you to define ua group bucket targets.\n",
    "\n",
    "[INSTRUCTIONS + TARGET FILE FORMATTING HERE]"
   ]
  },
  {
   "cell_type": "code",
   "execution_count": 2,
   "metadata": {},
   "outputs": [
    {
     "data": {
      "application/vnd.jupyter.widget-view+json": {
       "model_id": "4561b5a3972d4a9cbfa27555e48da180",
       "version_major": 2,
       "version_minor": 0
      },
      "text/plain": [
       "VBox(children=(HBox(children=(Label(value='(Target values loaded from the parcel file.)'),)), GridBox(children…"
      ]
     },
     "metadata": {},
     "output_type": "display_data"
    }
   ],
   "source": [
    "gui.display_bucket_targets_config()\n",
    "\n",
    "# what if the parcels are not loaded, then this cell is loaded (no widgets are shown), and then the parcel is loaded?\n",
    "# add reload button? maybe it could be shown when the \"no ua_grp_id\" error is shown?"
   ]
  },
  {
   "cell_type": "markdown",
   "metadata": {},
   "source": [
    "## Set output"
   ]
  },
  {
   "cell_type": "markdown",
   "metadata": {},
   "source": [
    "## Set optional parameters"
   ]
  },
  {
   "cell_type": "markdown",
   "metadata": {},
   "source": [
    "To be added in future versions."
   ]
  },
  {
   "cell_type": "code",
   "execution_count": null,
   "metadata": {},
   "outputs": [],
   "source": [
    "# gui.display_advanced_config()"
   ]
  },
  {
   "cell_type": "markdown",
   "metadata": {},
   "source": [
    "## Running extraction"
   ]
  },
  {
   "cell_type": "code",
   "execution_count": 3,
   "metadata": {},
   "outputs": [
    {
     "data": {
      "text/html": [
       "<style>.orange_label { color:orange }</style>"
      ],
      "text/plain": [
       "<IPython.core.display.HTML object>"
      ]
     },
     "metadata": {},
     "output_type": "display_data"
    },
    {
     "data": {
      "text/html": [
       "<style>.orange_label_bold { color:orange; font-weight: bold }</style>"
      ],
      "text/plain": [
       "<IPython.core.display.HTML object>"
      ]
     },
     "metadata": {},
     "output_type": "display_data"
    },
    {
     "data": {
      "text/html": [
       "<style>.green_label_bold { color:green; font-weight: bold }</style>"
      ],
      "text/plain": [
       "<IPython.core.display.HTML object>"
      ]
     },
     "metadata": {},
     "output_type": "display_data"
    },
    {
     "data": {
      "text/html": [
       "<style>.green_label { color:green }</style>"
      ],
      "text/plain": [
       "<IPython.core.display.HTML object>"
      ]
     },
     "metadata": {},
     "output_type": "display_data"
    },
    {
     "data": {
      "application/vnd.jupyter.widget-view+json": {
       "model_id": "ce3aa71546854e1f98f9798364854f60",
       "version_major": 2,
       "version_minor": 0
      },
      "text/plain": [
       "GridBox(children=(VBox(children=(Label(value='Bucket: E5', _dom_classes=('orange_label_bold',)), Label(value='…"
      ]
     },
     "metadata": {},
     "output_type": "display_data"
    },
    {
     "name": "stdout",
     "output_type": "stream",
     "text": [
      "\n",
      "All buckets full!\n",
      "\n",
      "Output file generated.\n"
     ]
    }
   ],
   "source": [
    "import sample_extraction\n",
    "\n",
    "buckets = sample_extraction.prepare_buckets(gui.PARAMETERS[\"ua_groups\"])\n",
    "parcels = sample_extraction.prepare_input_dataframe(gui.PARAMETERS[\"parcels_df\"])\n",
    "\n",
    "widgets = gui.display_output_area(buckets)\n",
    "\n",
    "\n",
    "sample_extraction.iterate_over_interventions(parcels, buckets, widgets)\n",
    "\n",
    "if sample_extraction.buckets_full(buckets):\n",
    "    print(\"\\nAll buckets full!\")\n",
    "else:\n",
    "    print(\"\\nSome buckets not full!\")\n",
    "\n",
    "sample_extraction.generate_output(buckets)   \n",
    "print(\"\\nOutput file generated.\")"
   ]
  },
  {
   "cell_type": "markdown",
   "metadata": {},
   "source": [
    "main changes:\n",
    "- when looping through a holding, every time a parcel is checked, all interventions from it have to be added to all possible buckets (unless bucket is full)\n",
    "- when looping through holding parcels, stop adding parcels to a bucket if 3 parcels from that holding are already in the bucket. but the other buckets still have to be checked. implement some kind of local bucket list? that is then merged with the big one?\n",
    "\n",
    "- work on the interface a bit\n",
    "- add some parameters\n",
    "\n",
    "\n",
    "---\n",
    "- 3 interventions per bucket\n",
    "\n",
    "\n",
    "- parcel -> check all interventions\n",
    "\n",
    "- holding check -> \n",
    "\n",
    "\n",
    "\n",
    "- once a bucket is filled, maybe remove all rows related to it from the main list?\n",
    "---\n",
    "\n",
    "\n",
    "modifiable parameters: \n",
    "- 3% limit\n",
    "- just the parcels covered by area images or whole list?\n",
    "- priority to the covered?\n",
    "- \n",
    "\n",
    "- costas, augusta, slavko, gilbert, paulo\n",
    "\n",
    "\n",
    "\n",
    "\n",
    "- 3% rule = for all buckets, if 3% of holdings are added, stop adding to a bucket even if below threshold. if you reach 3% of holdings, only keep adding parcels from the 3% holdings already added\n",
    "- grouping rows together (1 row per parcel with a list of intervensions in one columns)"
   ]
  }
 ],
 "metadata": {
  "kernelspec": {
   "display_name": "Python 3",
   "language": "python",
   "name": "python3"
  },
  "language_info": {
   "codemirror_mode": {
    "name": "ipython",
    "version": 3
   },
   "file_extension": ".py",
   "mimetype": "text/x-python",
   "name": "python",
   "nbconvert_exporter": "python",
   "pygments_lexer": "ipython3",
   "version": "3.12.2"
  }
 },
 "nbformat": 4,
 "nbformat_minor": 2
}
