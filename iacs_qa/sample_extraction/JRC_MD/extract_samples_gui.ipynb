{
 "cells": [
  {
   "cell_type": "markdown",
   "metadata": {},
   "source": [
    "# JRC Sample Extraction\n",
    "<div>\n",
    "<img src=\"jrc_ec_logo.jpg\" width=\"400\"/>\n",
    "</div>\n",
    "\n",
    "Software tool that selects inspection samples for the quality assessments (QA) of the Area Monitoring System (AMS) and GeoSpatial Application (GSA) \n",
    "\n",
    "Authors: Mateusz Dobrychłop (mateusz.dobrychlop@ext.ec.europa.eu), Fernando Fahl (fernando.fahl@ext.ec.europa.eu), Ferdinando Urbano (ferdinando.urbano@ec.europa.eu)"
   ]
  },
  {
   "cell_type": "markdown",
   "metadata": {},
   "source": [
    "## Introduction"
   ]
  },
  {
   "cell_type": "markdown",
   "metadata": {},
   "source": [
    "### Working With an Interactive Jupyter Notebook"
   ]
  },
  {
   "cell_type": "markdown",
   "metadata": {},
   "source": [
    "#### What is a Jupyter Notebook?\n",
    "\n",
    "What you are looking at is a *Jupyter Notebook*. It's an interactive document that allows you to combine executable code, text, images, and visualizations all in one easily accessible place. This format is particularly useful for data analysis, scientific research, and complex computations, providing a hands-on way to explore and present data dynamically. It also can provide ways of running Python scripts and providing input data for them that is more user friendly than a standard, purely command-line based solution.\n",
    "\n",
    "#### Where to Open This Notebook\n",
    "\n",
    "To open and use this notebook, you will need an environment that supports Jupyter Notebooks. The simplest option for many is to use Visual Studio Code (VSCode) with the Python and Jupyter extensions installed, which provides support for running Jupyter Notebooks directly within the editor. Alternatively, you can use traditional Jupyter environments such as Jupyter Lab or Jupyter Notebook, available through Anaconda or directly in your web browser.\n",
    "\n",
    "#### How to Use This Notebook\n",
    "\n",
    "* **Running the Code:** Each section of code, called a \"cell\", can be executed independently by selecting it and pressing Shift + Enter, or by using the \"Run\" button in the toolbar. This will run the code within that cell and display any outputs directly below it. The code included in the cells is intentionally kept very brief and simple - to have a closer look at the details behind the algorithm, you can open one of the Python files that the notebook imports from.\n",
    "\n",
    "* **Interactive Elements:** This notebook includes interactive widgets (like checkboxes, buttons, text boxes, and possibly more in the future) designed to make it easier for you to change parameters and interact with the data without needing to modify the code directly. We actually advise against changing anything in the code cells. The widgets are not displayed by default - they appear after running a code cell that implements them.\n",
    "\n",
    "* **Sequential Execution:** It's important to run the cells in the order they appear. Some cells depend on code or data from earlier cells, so running them out of order might result in errors or incorrect outputs.\n",
    "\n",
    "#### Getting Started\n",
    "\n",
    "To begin, simply start at the top of the notebook and work your way down. Each cell is designed to guide you through the process and provide interactive elements to adjust the analysis. If you encounter any issues, ensure that you have run all preceding cells in the order they appear."
   ]
  },
  {
   "cell_type": "markdown",
   "metadata": {},
   "source": [
    "### Installation of Python and other prerequisites"
   ]
  },
  {
   "cell_type": "markdown",
   "metadata": {},
   "source": [
    "To ensure that you can run this Jupyter Notebook smoothly, you'll need to install Python along with several required libraries. Follow these step-by-step instructions to set up everything you need.\n",
    "\n",
    "#### Step 1: Install Python\n",
    "1. Download Python: Go to the official Python website at python.org and download the latest version of Python 3.12.x for your operating system (Windows, macOS, or Linux).\n",
    "2. Install Python: Open the downloaded file and run the installer. Ensure that you check the box that says Add Python 3.12 to PATH before clicking Install Now.\n",
    "\n",
    "#### Step 2: Install Required Libraries\n",
    "1. Open your command prompt or terminal:\n",
    "\n",
    "    * On Windows, you can search for CMD or Command Prompt in your start menu.\n",
    "\n",
    "    * On macOS, open the Terminal application from your Applications/Utilities folder.\n",
    "\n",
    "    * On Linux, open your terminal from your applications menu or by pressing Ctrl+Alt+T.\n",
    "\n",
    "2. Install the libraries using pip: Type the following command and press Enter:\n",
    "\n",
    "    ```\n",
    "    pip install ipython ipywidgets pandas openpyxl notebook\n",
    "    ```\n",
    "\n",
    "    This command will install:\n",
    "\n",
    "    * IPython: An enhanced interactive Python interpreter.\n",
    "    * ipywidgets: Tools for creating interactive GUIs (sets of widgets) within Jupyter notebooks.\n",
    "    * pandas: A powerful data manipulation and analysis library.\n",
    "    * openpyxl: A library for reading and writing Excel 2010 xlsx/xlsm/xltx/xltm files.\n",
    "    * notebook: The package that includes Jupyter Notebook.\n",
    "\n",
    "#### Step 3: Launching the Notebook\n",
    "\n",
    "* Option 1: Using Visual Studio Code (VSCode)\n",
    "    * Install VSCode: Download and install Visual Studio Code from code.visualstudio.com.\n",
    "    * Install the Python extension: Open VSCode, go to the Extensions view by clicking on the square icon on the sidebar, or pressing Ctrl+Shift+X. Search for 'Python' and install the extension offered by Microsoft.\n",
    "    * Open the notebook in VSCode: Open the folder containing your notebook using File > Open Folder, and then click on the notebook file to open it in a VSCode tab.\n",
    "\n",
    "* Option 2: Using Jupyter Notebook directly\n",
    "    * Launch the notebook: Type the following command in your terminal or command prompt:\n",
    "\n",
    "        ```\n",
    "        jupyter notebook\n",
    "        ```\n",
    "    * This will start the Jupyter Notebook server and should automatically open a web browser window showing the Notebook Dashboard. From here, you can navigate to and open the notebook file you need to use."
   ]
  },
  {
   "cell_type": "markdown",
   "metadata": {},
   "source": [
    "## Loading Input Data"
   ]
  },
  {
   "cell_type": "markdown",
   "metadata": {},
   "source": [
    "The solution takes the following CSV files as input\n",
    "\n",
    "* **Parcel file (mandatory)** - a file that contains information about parcels, holdings, and ua groups, that the algorithm selects sample data from.\n",
    "\n",
    "* **Target file (optional)** - a file that defines the target number of parcels that each bucket (corresponding to a certain ua group) should be populated with, as long as there is enough data in the parcel file.\n",
    "\n",
    "The bucket target values, as well as other parameters, can also be defined manually using interactive widgets.\n",
    "\n",
    "Detailed instructions on how to format the input files are included below."
   ]
  },
  {
   "cell_type": "markdown",
   "metadata": {},
   "source": [
    "### Parcel File"
   ]
  },
  {
   "cell_type": "markdown",
   "metadata": {},
   "source": [
    "#### File format\n",
    "\n",
    "The parcel file should be a standard CSV (*comma separated value*) file. Despite the file format's name, the delimiter (symbol separating columns) used in some CSV files is not always actually a comma, so make sure the delimiter used in the file you use is in fact a comma.\n",
    "\n",
    "Below is the list of columns that the parcel file must contain:\n",
    "\n",
    "| **Column name** | **Type** | **Description** | **Comments** |\n",
    "| --------------- | -------- | --------------- | ------------ |\n",
    "| gsa_par_id | string (text) | Parcel ID | |\n",
    "| gsa_hol_id | integer (whole number) | Holding ID | |\n",
    "| ua_grp_id | string (text) | UA group ID | |\n",
    "| covered | integer (whole number) | Is the parcel covered by a HR image? (1 - yes, 0 - no) | Can only contain 0 or 1 |\n",
    "| ranking | integer (whole number) | Ranking value defining the priority in saple parcel selection order. | |\n",
    "\n",
    "\n",
    "What's also important to note:\n",
    "\n",
    "* The column names must be identical to the names included in the list above.\n",
    "\n",
    "* The data types have to match the requirements listed above.\n",
    "\n",
    "* There should be no empty cells in the dataset.\n",
    "\n",
    "* Including other columns in the file should not prevent the tool from working, but could potentially slow it down.\n",
    "\n",
    "* The order of the columns does not matter.\n",
    "\n",
    "Preview of a correctly formatted dataset:\n",
    "\n",
    "| **gsa_par_id** | **gsa_hol_id** | **ua_grp_id** | **covered** | **ranking** |\n",
    "| -------------- | -------------- | ------------- | ----------- | ----------- |\n",
    "| QWER-5668-44453 |\t3221 | E5 | 1 | 1 |\n",
    "| QWER-5668-44453 |\t3221 | ANC | 1 | 1 |\n",
    "| UIOP-4671-02080 |\t2137 | BIS | 2 | 1 |\n",
    "| UIOP-4671-02080 | 2137 | ANC | 2 | 1 |\n",
    "| HJKL-4470-03366 |\t8901 | ANC | 3 | 1 |\n",
    "\n",
    "Please keep in mind that the naming conventions for different identificators included in the file can be different for different member states."
   ]
  },
  {
   "cell_type": "markdown",
   "metadata": {},
   "source": [
    "Run the code cell below to display a set of widgets that will allow you to select your input file.\n",
    "\n",
    "[INSTRUCTIONS + PARCEL FILE FORMATTING HERE]"
   ]
  },
  {
   "cell_type": "code",
   "execution_count": 1,
   "metadata": {},
   "outputs": [
    {
     "data": {
      "text/html": [
       "\n",
       "<style>\n",
       "    .info-button-style {\n",
       "        border-radius: 50%;  /* Makes the button circular */\n",
       "    }\n",
       "    .info-button-style:hover {\n",
       "        box-shadow: none !important;  /* Removes shadow on hover */\n",
       "        transform: none !important;  /* Stops any popping or scaling */\n",
       "        cursor: default;  /* Removes the hand cursor */\n",
       "    }\n",
       "</style>\n"
      ],
      "text/plain": [
       "<IPython.core.display.HTML object>"
      ]
     },
     "metadata": {},
     "output_type": "display_data"
    },
    {
     "data": {
      "application/vnd.jupyter.widget-view+json": {
       "model_id": "612fb3dad2334f30a733a0c207c31ce6",
       "version_major": 2,
       "version_minor": 0
      },
      "text/plain": [
       "VBox(children=(HBox(children=(Button(icon='info', layout=Layout(width='30px'), style=ButtonStyle(), tooltip='I…"
      ]
     },
     "metadata": {},
     "output_type": "display_data"
    }
   ],
   "source": [
    "import sample_extraction_gui as gui\n",
    "\n",
    "uploaded_files = gui.display_parcel_input_config()"
   ]
  },
  {
   "cell_type": "markdown",
   "metadata": {},
   "source": [
    "## Define bucket targets"
   ]
  },
  {
   "cell_type": "markdown",
   "metadata": {},
   "source": [
    "Run the code cell below to display a set of widgets that will allow you to define ua group bucket targets.\n",
    "\n",
    "[INSTRUCTIONS + TARGET FILE FORMATTING HERE]"
   ]
  },
  {
   "cell_type": "code",
   "execution_count": 2,
   "metadata": {},
   "outputs": [
    {
     "data": {
      "application/vnd.jupyter.widget-view+json": {
       "model_id": "4561b5a3972d4a9cbfa27555e48da180",
       "version_major": 2,
       "version_minor": 0
      },
      "text/plain": [
       "VBox(children=(HBox(children=(Label(value='(Target values loaded from the parcel file.)'),)), GridBox(children…"
      ]
     },
     "metadata": {},
     "output_type": "display_data"
    }
   ],
   "source": [
    "gui.display_bucket_targets_config()\n",
    "\n",
    "# what if the parcels are not loaded, then this cell is loaded (no widgets are shown), and then the parcel is loaded?\n",
    "# add reload button? maybe it could be shown when the \"no ua_grp_id\" error is shown?"
   ]
  },
  {
   "cell_type": "markdown",
   "metadata": {},
   "source": [
    "## Set output"
   ]
  },
  {
   "cell_type": "markdown",
   "metadata": {},
   "source": [
    "## Set optional parameters"
   ]
  },
  {
   "cell_type": "markdown",
   "metadata": {},
   "source": [
    "To be added in future versions."
   ]
  },
  {
   "cell_type": "code",
   "execution_count": null,
   "metadata": {},
   "outputs": [],
   "source": [
    "# gui.display_advanced_config()"
   ]
  },
  {
   "cell_type": "markdown",
   "metadata": {},
   "source": [
    "## Running extraction"
   ]
  },
  {
   "cell_type": "code",
   "execution_count": 3,
   "metadata": {},
   "outputs": [
    {
     "data": {
      "text/html": [
       "<style>.orange_label { color:orange }</style>"
      ],
      "text/plain": [
       "<IPython.core.display.HTML object>"
      ]
     },
     "metadata": {},
     "output_type": "display_data"
    },
    {
     "data": {
      "text/html": [
       "<style>.orange_label_bold { color:orange; font-weight: bold }</style>"
      ],
      "text/plain": [
       "<IPython.core.display.HTML object>"
      ]
     },
     "metadata": {},
     "output_type": "display_data"
    },
    {
     "data": {
      "text/html": [
       "<style>.green_label_bold { color:green; font-weight: bold }</style>"
      ],
      "text/plain": [
       "<IPython.core.display.HTML object>"
      ]
     },
     "metadata": {},
     "output_type": "display_data"
    },
    {
     "data": {
      "text/html": [
       "<style>.green_label { color:green }</style>"
      ],
      "text/plain": [
       "<IPython.core.display.HTML object>"
      ]
     },
     "metadata": {},
     "output_type": "display_data"
    },
    {
     "data": {
      "application/vnd.jupyter.widget-view+json": {
       "model_id": "ce3aa71546854e1f98f9798364854f60",
       "version_major": 2,
       "version_minor": 0
      },
      "text/plain": [
       "GridBox(children=(VBox(children=(Label(value='Bucket: E5', _dom_classes=('orange_label_bold',)), Label(value='…"
      ]
     },
     "metadata": {},
     "output_type": "display_data"
    },
    {
     "name": "stdout",
     "output_type": "stream",
     "text": [
      "\n",
      "All buckets full!\n",
      "\n",
      "Output file generated.\n"
     ]
    }
   ],
   "source": [
    "import sample_extraction\n",
    "\n",
    "buckets = sample_extraction.prepare_buckets(gui.PARAMETERS[\"ua_groups\"])\n",
    "parcels = sample_extraction.prepare_input_dataframe(gui.PARAMETERS[\"parcels_df\"])\n",
    "\n",
    "widgets = gui.display_output_area(buckets)\n",
    "\n",
    "\n",
    "sample_extraction.iterate_over_interventions(parcels, buckets, widgets)\n",
    "\n",
    "if sample_extraction.buckets_full(buckets):\n",
    "    print(\"\\nAll buckets full!\")\n",
    "else:\n",
    "    print(\"\\nSome buckets not full!\")\n",
    "\n",
    "sample_extraction.generate_output(buckets)   \n",
    "print(\"\\nOutput file generated.\")"
   ]
  },
  {
   "cell_type": "markdown",
   "metadata": {},
   "source": [
    "main changes:\n",
    "- when looping through a holding, every time a parcel is checked, all interventions from it have to be added to all possible buckets (unless bucket is full)\n",
    "- when looping through holding parcels, stop adding parcels to a bucket if 3 parcels from that holding are already in the bucket. but the other buckets still have to be checked. implement some kind of local bucket list? that is then merged with the big one?\n",
    "\n",
    "- work on the interface a bit\n",
    "- add some parameters\n",
    "\n",
    "\n",
    "---\n",
    "- 3 interventions per bucket\n",
    "\n",
    "\n",
    "- parcel -> check all interventions\n",
    "\n",
    "- holding check -> \n",
    "\n",
    "\n",
    "\n",
    "- once a bucket is filled, maybe remove all rows related to it from the main list?\n",
    "---\n",
    "\n",
    "\n",
    "modifiable parameters: \n",
    "- 3% limit\n",
    "- just the parcels covered by area images or whole list?\n",
    "- priority to the covered?\n",
    "- \n",
    "\n",
    "- costas, augusta, slavko, gilbert, paulo\n",
    "\n",
    "\n",
    "\n",
    "\n",
    "- 3% rule = for all buckets, if 3% of holdings are added, stop adding to a bucket even if below threshold. if you reach 3% of holdings, only keep adding parcels from the 3% holdings already added\n",
    "- grouping rows together (1 row per parcel with a list of intervensions in one columns)"
   ]
  }
 ],
 "metadata": {
  "kernelspec": {
   "display_name": "Python 3",
   "language": "python",
   "name": "python3"
  },
  "language_info": {
   "codemirror_mode": {
    "name": "ipython",
    "version": 3
   },
   "file_extension": ".py",
   "mimetype": "text/x-python",
   "name": "python",
   "nbconvert_exporter": "python",
   "pygments_lexer": "ipython3",
   "version": "3.12.2"
  }
 },
 "nbformat": 4,
 "nbformat_minor": 2
}
