{
 "cells": [
  {
   "cell_type": "markdown",
   "metadata": {},
   "source": [
    "# JRC Sample Extraction\n",
    "<div>\n",
    "<img src=\"jrc_ec_logo.jpg\" width=\"400\"/>\n",
    "</div>\n",
    "\n",
    "Solution that selects inspection samples for the quality assessments (QA) of the Area Monitoring System (AMS) and GeoSpatial Application (GSA) \n",
    "\n",
    "[INTRODUCTION + GENERAL INSTRUCTIONS HERE]\n",
    "\n",
    "Authors: Fernando Fahl (fernando.fahl@ext.ec.europa.eu), Mateusz Dobrychłop (mateusz.dobrychlop@ext.ec.europa.eu), Ferdinando Urbano (ferdinando.urbano@ec.europa.eu)"
   ]
  },
  {
   "cell_type": "markdown",
   "metadata": {},
   "source": [
    "## Load parcel list"
   ]
  },
  {
   "cell_type": "markdown",
   "metadata": {},
   "source": [
    "Run the code cell below to display a set of widgets that will allow you to select your input file.\n",
    "\n",
    "[INSTRUCTIONS + PARCEL FILE FORMATTING HERE]"
   ]
  },
  {
   "cell_type": "code",
   "execution_count": 1,
   "metadata": {},
   "outputs": [
    {
     "data": {
      "text/html": [
       "\n",
       "<style>\n",
       "    .info-button-style {\n",
       "        border-radius: 50%;  /* Makes the button circular */\n",
       "    }\n",
       "    .info-button-style:hover {\n",
       "        box-shadow: none !important;  /* Removes shadow on hover */\n",
       "        transform: none !important;  /* Stops any popping or scaling */\n",
       "        cursor: default;  /* Removes the hand cursor */\n",
       "    }\n",
       "</style>\n"
      ],
      "text/plain": [
       "<IPython.core.display.HTML object>"
      ]
     },
     "metadata": {},
     "output_type": "display_data"
    },
    {
     "data": {
      "application/vnd.jupyter.widget-view+json": {
       "model_id": "1e5dcf3eec81483fabf1fca3e005f04e",
       "version_major": 2,
       "version_minor": 0
      },
      "text/plain": [
       "VBox(children=(HBox(children=(Button(icon='info', layout=Layout(width='30px'), style=ButtonStyle(), tooltip='I…"
      ]
     },
     "metadata": {},
     "output_type": "display_data"
    }
   ],
   "source": [
    "import sample_extraction_gui as gui\n",
    "uploaded_files = gui.display_parcel_input_config()\n",
    "\n",
    "# input/MT_parcels_new.csv"
   ]
  },
  {
   "cell_type": "markdown",
   "metadata": {},
   "source": [
    "## Define bucket targets"
   ]
  },
  {
   "cell_type": "markdown",
   "metadata": {},
   "source": [
    "Run the code cell below to display a set of widgets that will allow you to define ua group bucket targets.\n",
    "\n",
    "[INSTRUCTIONS + TARGET FILE FORMATTING HERE]"
   ]
  },
  {
   "cell_type": "code",
   "execution_count": 2,
   "metadata": {},
   "outputs": [
    {
     "data": {
      "application/vnd.jupyter.widget-view+json": {
       "model_id": "634cc4ef79864c038656cb9aaf78b655",
       "version_major": 2,
       "version_minor": 0
      },
      "text/plain": [
       "VBox(children=(HBox(children=(Label(value='(Target values loaded from the parcel file.)'),)), GridBox(children…"
      ]
     },
     "metadata": {},
     "output_type": "display_data"
    }
   ],
   "source": [
    "gui.display_bucket_targets_config()\n",
    "\n",
    "# what if the parcels are not loaded, then this cell is loaded (no widgets are shown), and then the parcel is loaded?\n",
    "# add reload button? maybe it could be shown when the \"no ua_grp_id\" error is shown?"
   ]
  },
  {
   "cell_type": "markdown",
   "metadata": {},
   "source": [
    "## Set output"
   ]
  },
  {
   "cell_type": "markdown",
   "metadata": {},
   "source": [
    "## Set optional parameters"
   ]
  },
  {
   "cell_type": "markdown",
   "metadata": {},
   "source": [
    "To be added in future versions."
   ]
  },
  {
   "cell_type": "code",
   "execution_count": null,
   "metadata": {},
   "outputs": [],
   "source": [
    "# gui.display_advanced_config()"
   ]
  },
  {
   "cell_type": "markdown",
   "metadata": {},
   "source": [
    "## Running extraction"
   ]
  },
  {
   "cell_type": "code",
   "execution_count": 3,
   "metadata": {},
   "outputs": [
    {
     "name": "stdout",
     "output_type": "stream",
     "text": [
      "        gsa_par_id  gsa_hol_id  ua_grp_id  ranking  covered  \\\n",
      "0  ZTN0-5668-00153        3731          0        1        1   \n",
      "1  ZTN0-5668-00153        3731          1        1        1   \n",
      "2  ATD0-4671-00080        9377          2        2        1   \n",
      "3  ATD0-4671-00080        9377          1        2        1   \n",
      "4  RBT0-4470-00646        8601          1        3        1   \n",
      "\n",
      "                     row_id  order_added  \n",
      "0   ZTN0-5668-00153_3731_E5            0  \n",
      "1  ZTN0-5668-00153_3731_ANC            0  \n",
      "2  ATD0-4671-00080_9377_BIS            0  \n",
      "3  ATD0-4671-00080_9377_ANC            0  \n",
      "4  RBT0-4470-00646_8601_ANC            0  \n",
      "{0: {'target': 250, 'parcels': []}, 1: {'target': 300, 'parcels': []}, 2: {'target': 300, 'parcels': []}, 3: {'target': 24, 'parcels': []}, 4: {'target': 50, 'parcels': []}, 5: {'target': 140, 'parcels': []}, 6: {'target': 300, 'parcels': []}, 7: {'target': 70, 'parcels': []}, 8: {'target': 14, 'parcels': []}, 9: {'target': 3, 'parcels': []}, 10: {'target': 4, 'parcels': []}, 11: {'target': 2, 'parcels': []}, 12: {'target': 20, 'parcels': []}, 13: {'target': 8, 'parcels': []}, 14: {'target': 0, 'parcels': []}, 15: {'target': 6, 'parcels': []}, 16: {'target': 0, 'parcels': []}, 17: {'target': 0, 'parcels': []}, 18: {'target': 1, 'parcels': []}, 19: {'target': 0, 'parcels': []}, 20: {'target': 0, 'parcels': []}}\n",
      "Buckets: (\u001b[92mgreen\u001b[0m = full, \u001b[93myellow\u001b[0m = still looking for parcels)\n",
      "\u001b[92m0: 250/250\u001b[0m | \u001b[92m1: 300/300\u001b[0m | \u001b[92m2: 300/300\u001b[0m | \u001b[92m3: 24/24\u001b[0m | \u001b[92m4: 50/50\u001b[0m | \u001b[92m5: 140/140\u001b[0m | \u001b[92m6: 300/300\u001b[0m | \u001b[92m7: 70/70\u001b[0m | \u001b[92m8: 14/14\u001b[0m | \u001b[92m9: 3/3\u001b[0m | \u001b[92m10: 4/4\u001b[0m | \u001b[92m11: 2/2\u001b[0m | \u001b[92m12: 20/20\u001b[0m | \u001b[92m13: 8/8\u001b[0m | \u001b[92m14: 0/0\u001b[0m | \u001b[92m15: 6/6\u001b[0m | \u001b[92m16: 0/0\u001b[0m | \u001b[92m17: 0/0\u001b[0m | \u001b[92m18: 1/1\u001b[0m | \u001b[92m19: 0/0\u001b[0m | \u001b[92m20: 0/0\u001b[0m | \n",
      "All buckets full!\n",
      "\n",
      "Output file generated.\n"
     ]
    }
   ],
   "source": [
    "import sample_extraction\n",
    "\n",
    "buckets = sample_extraction.prepare_buckets(gui.PARAMETERS[\"ua_groups\"])\n",
    "#mapping = sample_extraction.create_ua_grp_id_map(buckets)\n",
    "#buckets = sample_extraction.translate_buckets(buckets, mapping)\n",
    "\n",
    "parcels = sample_extraction.prepare_input_dataframe(gui.PARAMETERS[\"parcels_df\"])\n",
    "#parcels = sample_extraction.translate_parcel_df(parcels, mapping)\n",
    "\n",
    "\n",
    "print(parcels.head())\n",
    "print(buckets)\n",
    "\n",
    "sample_extraction.iterate_over_interventions(parcels, buckets) #, pbars)    \n",
    "\n",
    "# Indicate the reason why the run ended\n",
    "if sample_extraction.buckets_full(buckets):\n",
    "    print(\"\\nAll buckets full!\")\n",
    "else:\n",
    "    print(\"\\nSome buckets not full!\")\n",
    "\n",
    "sample_extraction.generate_output(buckets)   \n",
    "print(\"\\nOutput file generated.\")"
   ]
  },
  {
   "cell_type": "markdown",
   "metadata": {},
   "source": [
    "main changes:\n",
    "- when looping through a holding, every time a parcel is checked, all interventions from it have to be added to all possible buckets (unless bucket is full)\n",
    "- when looping through holding parcels, stop adding parcels to a bucket if 3 parcels from that holding are already in the bucket. but the other buckets still have to be checked. implement some kind of local bucket list? that is then merged with the big one?\n",
    "\n",
    "- work on the interface a bit\n",
    "- add some parameters\n",
    "\n",
    "\n",
    "---\n",
    "- 3 interventions per bucket\n",
    "\n",
    "\n",
    "- parcel -> check all interventions\n",
    "\n",
    "- holding check -> \n",
    "\n",
    "\n",
    "\n",
    "- once a bucket is filled, maybe remove all rows related to it from the main list?\n",
    "---\n",
    "\n",
    "\n",
    "modifiable parameters: \n",
    "- 3% limit\n",
    "- just the parcels covered by area images or whole list?\n",
    "- priority to the covered?\n",
    "- \n",
    "\n",
    "- costas, augusta, slavko, gilbert, paulo\n",
    "\n",
    "\n",
    "\n",
    "\n",
    "- 3% rule = for all buckets, if 3% of holdings are added, stop adding to a bucket even if below threshold. if you reach 3% of holdings, only keep adding parcels from the 3% holdings already added\n",
    "- grouping rows together (1 row per parcel with a list of intervensions in one columns)"
   ]
  }
 ],
 "metadata": {
  "kernelspec": {
   "display_name": "Python 3",
   "language": "python",
   "name": "python3"
  },
  "language_info": {
   "codemirror_mode": {
    "name": "ipython",
    "version": 3
   },
   "file_extension": ".py",
   "mimetype": "text/x-python",
   "name": "python",
   "nbconvert_exporter": "python",
   "pygments_lexer": "ipython3",
   "version": "3.12.2"
  }
 },
 "nbformat": 4,
 "nbformat_minor": 2
}
