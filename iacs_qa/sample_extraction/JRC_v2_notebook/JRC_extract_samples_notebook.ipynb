{
 "cells": [
  {
   "cell_type": "markdown",
   "metadata": {},
   "source": [
    "<div>\n",
    "<img src=\"images/jrc_ec_logo.jpg\" width=\"400\"/>\n",
    "</div>\n",
    "\n",
    "# **QUASSA**\n",
    "### IACS **QU**ality **AS**essment **SA**mple Extraction Tool\n",
    "\n",
    "The code included in this notebook, developed by the JRC, implements the procedure for Member States to define their samples for the IACS quality assessment. This involves extracting parcels from the ranked list provided by the Commission, following the selection rules in the Union Level Methodology 2024 (Chapters 3 and 4). Member States have discretion over the sample sizes, within the constraints of the Methodology.\n",
    "\n",
    "The tool takes the ranked list in CSV format and returns a list of parcels assigned to buckets representing different interventions.\n",
    "\n",
    "Authors: Mateusz Dobrychłop (mateusz.dobrychlop@ext.ec.europa.eu), Fernando Fahl (fernando.fahl@ext.ec.europa.eu), Ferdinando Urbano (ferdinando.urbano@ec.europa.eu)"
   ]
  },
  {
   "cell_type": "markdown",
   "metadata": {},
   "source": [
    "# Release notes"
   ]
  },
  {
   "cell_type": "markdown",
   "metadata": {},
   "source": [
    "**Version 2 (Jupyter Notebook)**\n",
    "\n",
    "---\n",
    "**Latest update: September 6th** - v2.7\n",
    "* **Holding level intervention selection** - the target selection UI now allows for selecting Holding Level interventions. Selecting one or more Holding Level interventions results in creating an additional output file, with the summary of all holdings related to the Holding Level interventions.\n",
    "* **Retain / filter out non-contributing parcels** - a new optional parameter that allows the user to decide if a highest-ranked parcel of a holding should be filtered out or retained, when all parcels of a recently completed bucket are filtered out from the parcel list.\n",
    "* Summary output files - after every extraction a new file is included in the output. It's a simple text summary file listing the parameters used and some statistics calculated on the extracted dataset.\n",
    "* Extraction ID - the user can now define a unique ID for each extraction. If a custom ID is not defined, the tool will automatically assign a randomized ID to simplify the distinction between output files generated for different extraction iterations.\n",
    "* Increase all targets by x% - taking the place of the now deprecated target capping option - allows the user to automatically increase all bucket targets by a defined percentage\n",
    "* Default target value definition - the default placeholder values for bucket targets are now calculated based on the algorithm described in the Union Level Methodology.\n",
    "---\n",
    "\n",
    "The solution is still in its beta testing phase. Implementation of some of new features, optimization, and fixes based on user feedback are planned."
   ]
  },
  {
   "cell_type": "markdown",
   "metadata": {},
   "source": [
    "# Introduction"
   ]
  },
  {
   "cell_type": "markdown",
   "metadata": {},
   "source": [
    "## Python, Jupyter Notebook, Prerequisites"
   ]
  },
  {
   "cell_type": "markdown",
   "metadata": {},
   "source": [
    "### Python"
   ]
  },
  {
   "cell_type": "markdown",
   "metadata": {},
   "source": [
    "The first prerequisite for running this solution is **Python**. You can download and install Python for your system using [this link](https://www.python.org/downloads/). We recommend version 3.12 or newer."
   ]
  },
  {
   "cell_type": "markdown",
   "metadata": {},
   "source": [
    "### Jupyter Notebook"
   ]
  },
  {
   "cell_type": "markdown",
   "metadata": {},
   "source": [
    "The solution is written in Python, and made available in the form of a **Jupyter Notebook**. It is an interactive document that allows you to combine executable code, text, images, and visualizations all in one easily accessible place. Documentation can be found [here](https://docs.jupyter.org/en/latest/).\n",
    "\n",
    "To open and use this notebook, you will need an environment that supports Jupyter Notebooks. Some recommended options to look into:\n",
    "* Running the notebook in your web browser [(link)](https://docs.jupyter.org/en/latest/running.html)\n",
    "* JupyterLab [(link)](https://jupyterlab.readthedocs.io/en/latest/)\n",
    "* Visual Studio Code [(link)](https://code.visualstudio.com/download)"
   ]
  },
  {
   "cell_type": "markdown",
   "metadata": {},
   "source": [
    "### Other Prerequisites"
   ]
  },
  {
   "cell_type": "markdown",
   "metadata": {},
   "source": [
    "Once Python and the Jupyter Notebook environment are installed, please install the following Python libraries:\n",
    "\n",
    "* **IPython**: An enhanced interactive Python interpreter.\n",
    "* **ipywidgets**: Tools for creating interactive GUIs (sets of widgets) within Jupyter notebooks.\n",
    "* **pandas**: A data manipulation and analysis library.\n",
    "* **openpyxl**: A library for reading and writing Excel 2010 xlsx/xlsm/xltx/xltm files.\n",
    "* **matplotlib**: A popular data visualization library\n",
    "\n",
    "Assuming the Python and pip paths are correctly added to your system's PATH, you can quickly install the required libraries using the following command:\n",
    "\n",
    "```\n",
    "pip install ipython ipywidgets pandas openpyxl notebook matplotlib\n",
    "```\n",
    "\n",
    "Alternatively, you can use the *requirements.txt* file provided with the code. This will install all the necessary requirements as well.\n",
    "\n",
    "```\n",
    "pip install -r requirements.txt\n",
    "```"
   ]
  },
  {
   "cell_type": "markdown",
   "metadata": {},
   "source": [
    "## How to Use This Notebook\n"
   ]
  },
  {
   "cell_type": "markdown",
   "metadata": {},
   "source": [
    "* **Running the Code:** Each section of code, called a \"code cell\", can be executed independently by selecting it and pressing Shift + Enter, or by using the \"Run\" button in the toolbar. This will run the code within that cell and display any outputs directly below it. The code included in the cells is intentionally kept very brief and simple - to have a closer look at the details behind the algorithm, you can open one of the Python files that the notebook imports from.\n",
    "\n",
    "* **Interactive Elements:** This notebook includes interactive widgets (like checkboxes, buttons, text boxes, and possibly more in the future) designed to make it easier for you to change parameters and interact with the data without needing to modify the code directly. We actually advise against changing anything in the code cells. The widgets are not displayed by default - they appear after running a code cell that implements them.\n",
    "\n",
    "* **Sequential Execution:** It's important to run the cells in the order they appear. Some cells depend on code or data from earlier cells, so running them out of order might result in errors or incorrect outputs."
   ]
  },
  {
   "cell_type": "markdown",
   "metadata": {},
   "source": [
    "# Input Data"
   ]
  },
  {
   "cell_type": "markdown",
   "metadata": {},
   "source": [
    "The solution takes the following CSV files as input\n",
    "\n",
    "* **Parcel file (mandatory)** - a file that contains information about parcels, holdings, and ua groups, that the algorithm selects sample data from.\n",
    "\n",
    "* **Target file (optional)** - a file that defines the target number of parcels that each bucket (corresponding to a certain ua group) should be populated with, as long as there is enough data in the parcel file.\n",
    "\n",
    "The bucket target values, as well as other parameters, can also be defined manually using interactive widgets.\n",
    "\n",
    "Detailed instructions on how to format the input files are included below."
   ]
  },
  {
   "cell_type": "markdown",
   "metadata": {},
   "source": [
    "## Parcel File - introduction"
   ]
  },
  {
   "cell_type": "markdown",
   "metadata": {},
   "source": [
    "### Parcel file format"
   ]
  },
  {
   "cell_type": "markdown",
   "metadata": {},
   "source": [
    "The parcel file should be a standard CSV (*comma separated value*) file. Despite the file format's name, the delimiter (symbol separating columns) used in some CSV files is not always actually a comma, so make sure the delimiter used in the file you use is in fact a comma.\n",
    "\n",
    "Below is the list of columns that the parcel file must contain:\n",
    "\n",
    "| **Column name** | **Type** | **Description** | **Comments** |\n",
    "| --------------- | -------- | --------------- | ------------ |\n",
    "| gsa_par_id | integer (whole number) or string (text) | Parcel ID | |\n",
    "| gsa_hol_id | integer (whole number) | Holding ID | |\n",
    "| ua_grp_id | string (text) | UA group ID | |\n",
    "| covered | integer (whole number) | Is the parcel covered by a VHR image? (1 - yes, 0 - no) | Can only contain 0 or 1. This column has to exist even if the option of using all parcels regardless of coverage is selected. |\n",
    "| ranking | integer (whole number) | Ranking value defining the priority in saple parcel selection order. | |\n",
    "\n",
    "\n",
    "What's also important to note:\n",
    "\n",
    "* The column names must be identical to the names included in the list above.\n",
    "* The data types have to match the requirements listed above.\n",
    "* There should be no empty cells in the dataset.\n",
    "* Including other columns in the file should not prevent the tool from working, but could potentially slow it down.\n",
    "* The order of the columns does not matter.\n",
    "\n",
    "Preview of a correctly formatted dataset:\n",
    "\n",
    "```csv\n",
    "gsa_par_id,gsa_hol_id,ua_grp_id,ranking,covered\n",
    "QWER-5668-44453,3221,E5,1,1\n",
    "QWER-5668-44453,3221,ANC,1,1\n",
    "UIOP-4671-02080,2137,BIS,2,1\n",
    "UIOP-4671-02080,2137,ANC,2,1\n",
    "HJKL-4470-03366,8901,ANC,3,1\n",
    "```\n",
    "\n",
    "Please keep in mind that the naming conventions for different identificators included in the file can be different for different member states."
   ]
  },
  {
   "cell_type": "markdown",
   "metadata": {},
   "source": [
    "## Loading the parcel file"
   ]
  },
  {
   "cell_type": "markdown",
   "metadata": {},
   "source": [
    "Run the code cell below to display a set of widgets that will allow you to select your input file.\n",
    "\n",
    "You can point to the target file in your file system by clicking the *Select* button, and then using the frame that appears in order to locate and select the file. Once the file is selected, the path to that file should appear in the *Target file path* field.\n",
    "\n",
    "Alternatively, you can define or modify the path manually. In order to do so, put the path to the parcel file in the *Parcel file path* field. The path can be a direct or a relative path. For example, if the file is named *parcels.csv* and located in the *input* folder that exists in the same location as this notebook, then the relative path that can be placed in the *Parcel file path* field should be:\n",
    "\n",
    "```\n",
    "input/parcels.csv\n",
    "```\n",
    "\n",
    "**After selecting the target file or manually providing the path, click the *Load* button to verify and load the data.** The interface will let you know in case issues are encountered."
   ]
  },
  {
   "cell_type": "code",
   "execution_count": null,
   "metadata": {},
   "outputs": [],
   "source": [
    "from modules.data_manager import DataManager\n",
    "from modules import gui\n",
    "\n",
    "dm = DataManager()\n",
    "\n",
    "uploaded_files = gui.display_parcel_input_config(dm)"
   ]
  },
  {
   "cell_type": "markdown",
   "metadata": {
    "jp-MarkdownHeadingCollapsed": true
   },
   "source": [
    "## Bucket Targets - introduction"
   ]
  },
  {
   "cell_type": "markdown",
   "metadata": {},
   "source": [
    "The bucket target is the target number of parcels that a given bucket (corresponding to a given ua group) should be populated with, as long as there is enough data in the parcel file.\n",
    "\n",
    "There are 3 methods of editing the target values:\n",
    "\n",
    "* Manually writing the values using widgets / fields.\n",
    "* Loading a CSV file with target values listed for each bucket / UA group.\n",
    "* Setting a cutoff threshold that sets the maximum target value across all buckets."
   ]
  },
  {
   "cell_type": "markdown",
   "metadata": {},
   "source": [
    "###  Target File Format"
   ]
  },
  {
   "cell_type": "markdown",
   "metadata": {},
   "source": [
    "The target values can be loaded from a CSV file too. This option is not mandatory, but can speed up the process of setting up target values for larger sets of UA groups.\n",
    "\n",
    "It is important to remember that the UA groups considered in the analysis are derived from the parcel file, so the target file, if used, must be consistent with the parcel file. It can't list UA group IDs that are not present in the parcel file, it has to list all the UA group IDs that are included in the parcel file, and it has to follow the exact same naming as the parcel file.\n",
    "\n",
    "The target file should be a standard CSV (*comma separated value*) file. Despite the file format's name, the delimiter (symbol separating columns) used in some CSV files is not always actually a comma, so make sure the delimiter used in the file you use is in fact a comma.\n",
    "\n",
    "Below is the list of columns that the target file must contain:\n",
    "\n",
    "| **Column name** | **Type** | **Description** | **Comments** |\n",
    "| --------------- | -------- | --------------- | ------------ |\n",
    "| ua_grp_id | string (text) | UA group ID | Values must be unique and consistent with the IDs included in the parcel file (can't contain IDs not included in the parcel file, and must contain all Ids that are include in the parcel file) |\n",
    "| target | integer (whole number) | Target number of parcels the bucket should be populated with, if there is enough data in the parcel file | Can be 0 or more |\n",
    "\n",
    "What's also important to note:\n",
    "\n",
    "* The column names must be identical to the names included in the list above.\n",
    "* The data types have to match the requirements listed above.\n",
    "* There should be no empty cells in the dataset (buckets with target value equal to 0 are allowed).\n",
    "* Including other columns in the file should not prevent the tool from working.\n",
    "* The order of the columns does not matter.\n",
    "\n",
    "Preview of a correctly formatted dataset:\n",
    "\n",
    "```csv\n",
    "ua_grp_id,target\n",
    "E5,70\n",
    "ANC,250\n",
    "BIS,2\n",
    "```\n",
    "\n"
   ]
  },
  {
   "cell_type": "markdown",
   "metadata": {},
   "source": [
    "### Loading the Target File"
   ]
  },
  {
   "cell_type": "markdown",
   "metadata": {},
   "source": [
    "In addition to displaying the widgets for manual input of target values, the code cell below displays a set of widgets that will allow you to select your target file.\n",
    "\n",
    "You can point to the target file in your file system by clicking the *Select* button, then using the frame that appears to locate and select the file. After selecting your file, the path to that file should appear in the *Target file path* field. \n",
    "\n",
    "Alternatively, you can use the field to directly define the path to the file. In order to do so, put the path to the target file in the *Target file path* field. The path can be a direct or a relative path. For example, if the file is named *targets.csv* and located in the *input* folder that exists in the same location as this notebook, then the relative path that can be placed in the *Parcel file path* field should be:\n",
    "\n",
    "```\n",
    "input/targets.csv\n",
    "```\n",
    "\n",
    "**After selecting the target file or manually providing the path, click the *Load* button to verify and load the data.** The interface will let you know in case issues are encountered."
   ]
  },
  {
   "cell_type": "markdown",
   "metadata": {},
   "source": [
    "### Selecting Holding Level interventions"
   ]
  },
  {
   "cell_type": "markdown",
   "metadata": {},
   "source": [
    "To mark an intervention as Holding Level, click the corresponding \"HL\" button. After selecting, it will change color to yellow. Click the button again to deselect."
   ]
  },
  {
   "cell_type": "markdown",
   "metadata": {},
   "source": [
    "### Increasing all targets by a given percentage"
   ]
  },
  {
   "cell_type": "markdown",
   "metadata": {},
   "source": [
    "The *Increase all targets by* field can be used to increase all target values by a certain percentage. Putting a value in the field and clicking *Recalculate* adjusts all the target values by multiplying them by the provided value divided by 100. In other words, putting \"10\" in the field increases all target values by 10%."
   ]
  },
  {
   "cell_type": "markdown",
   "metadata": {},
   "source": [
    "## Setting target values"
   ]
  },
  {
   "cell_type": "markdown",
   "metadata": {},
   "source": [
    "**Once the parcel file is loaded**, run the code cell below to display a set of widgets that will let you define bucket sizes for each ua group identified in the parcel file.\n",
    "\n",
    "The code cell below displays a set of widgets that will allow you to define ua group bucket targets. By default, the target values are calculated based on the number of parcels related to a given ua group detected in the input data, following the algorithm described in the Union Level Methodology. The values can also be loaded from a file (process described in previous sections) and / or modified manually.\n",
    "\n",
    "Each widget corresponds to a single bucket / UA group and consists of 4 elements:\n",
    "\n",
    "* The UA group's identifier (non-modifiable)\n",
    "* Target number of parcels for the bucket (modifiable)\n",
    "* A \"HL\" button allowing to select Holding Level interventions (see below)\n",
    "* Number of rows identified in the parcel file corresponding to the UA group (in brackets, non-modifiable)\n",
    "\n",
    "A message above the widget grid displays information on the last method that was used to set the values for the targets.\n",
    "\n",
    "If the UA group's name is truncated due to its length, hover your mouse over it to see the full name.\n"
   ]
  },
  {
   "cell_type": "code",
   "execution_count": null,
   "metadata": {},
   "outputs": [],
   "source": [
    "try:\n",
    "    gui.display_bucket_targets_config(dm)\n",
    "except NameError:\n",
    "    print(\"Please run the previous code cell first ('Loading the parcel file')\")"
   ]
  },
  {
   "cell_type": "code",
   "execution_count": null,
   "metadata": {},
   "outputs": [],
   "source": [
    "print(dm.ua_groups)"
   ]
  },
  {
   "cell_type": "markdown",
   "metadata": {},
   "source": [
    "## Setting Optional Parameters"
   ]
  },
  {
   "cell_type": "markdown",
   "metadata": {},
   "source": [
    "Run the code below to display widgets that allow for the control over advanced / optional parameters.\n",
    "\n",
    "* **Limit search to 3% of holdings** - after the limit of 3% of all holdings present in the dataset is reached (all interventions selected represent a number of holdings that is 3% of the total), the algorithm continues to pick interventions only belonging to the already selected holdings. If by the end of that procedure, some buckets are empty (contain 0 iterventions), the remaining data is searched to add 1 intervention to each empty bucket.\n",
    "\n",
    "**VHR image coverage options**\n",
    "\n",
    "* **Include all parcels in the sample extraction** - search through all interventions, both covered and not covered by the VHR images.\n",
    "\n",
    "* **Prioritize parcels covered by VHR images (beta)** - prioritize covered parcels without completely disregarding the non-covered ones. **Currently in testing phase.**\n",
    "\n",
    "* **Include only parcels covered by VHR images** - only consider interventions with value of the \"covered\" column set to 1.\n",
    "\n",
    "**Non-contributing, highest-ranked parcel of a holding**\n",
    "\n",
    "* **Filter out when a bucket is filled** - when a bucked assigned to a ua group is filled, all rows related to that ua group, that remain in the dataset, are filtered out from it"
   ]
  },
  {
   "cell_type": "code",
   "execution_count": null,
   "metadata": {},
   "outputs": [],
   "source": [
    "try:\n",
    "    gui.display_optional_parameters(dm)\n",
    "except NameError:\n",
    "    print(\"Please run the first code cell first ('Loading the parcel file')\")"
   ]
  },
  {
   "cell_type": "markdown",
   "metadata": {
    "jp-MarkdownHeadingCollapsed": true
   },
   "source": [
    "# Output Information"
   ]
  },
  {
   "cell_type": "markdown",
   "metadata": {},
   "source": [
    "### Output file"
   ]
  },
  {
   "cell_type": "markdown",
   "metadata": {},
   "source": [
    "Once the tool finishes work, it automatically saves two files in two different formats (.xslx and .csv), containing the same naming convention and the same information. Each row of the output file corresponds to a single intervention within a parcel that was assigned to one of the UA group buckets.\n",
    "\n",
    "In the future, the interface will offer some flexibility regarding the nature of the output files.\n",
    "\n",
    "The output file contains the following columns:\n",
    "\n",
    "| **Column name** | **Type** | **Description** | **Comments** |\n",
    "| --------------- | -------- | --------------- | ------------ |\n",
    "| bucket_id | string (text) | Analogous to the UA group ID. ID of the UA group associated with the bucket. | |\n",
    "| gsa_par_id | string (text) | Parcel ID. | |\n",
    "| gsa_hol_id | integer (whole number) | Holding ID | |\n",
    "| ranking | integer (whole number) | Ranking value derived directly from the parcel file, defining the priority in sample parcel selection order. | |\n",
    "| covered | integer (whole number) | Is the parcel covered by a HR image? (1 - yes, 0 - no) | Can only contain 0 or 1 | |\n",
    "| order_added | integer (whole number) | A counter value indicating the general order in which the information was added to buckets. | |"
   ]
  },
  {
   "cell_type": "markdown",
   "metadata": {},
   "source": [
    "### Live progress preview"
   ]
  },
  {
   "cell_type": "markdown",
   "metadata": {},
   "source": [
    "After running the cell that executes the algorithm, a set of widgets is displayed that illustrates the progress of assigning parcels to different buckets. Orange text corresponds to buckets that are not yet full. Green text corresponds to buckets succesfully filled. In the upcoming versions of the tool, we're planning to let the users set the refresh rate of the output widgets, allowing for slight performance upgrade at the cost of the progress widgets accuracy."
   ]
  },
  {
   "cell_type": "markdown",
   "metadata": {},
   "source": [
    "# Running Extraction"
   ]
  },
  {
   "cell_type": "markdown",
   "metadata": {},
   "source": [
    "Before you run the cell below, please make sure the target values are set up correctly.\n",
    "\n",
    "Even though we are working on optimizing the code, it can potentially run for a very long time, heavily depending on the size, but also other aspects of the input data. At the initial stages, the buckets should populate at a relativly high rate, with very visible changes to the progress widgets. However, in later stages of the analysis, some buckets can stay empty for a longer period of time, while the algorithm is looking for the right parcels to populate them with. It is not uncommon for most of the analysis to be completed very quickly, just for the last one or two small buckets to require most of the time to be filled.\n",
    "\n",
    "For details regarding the current state of the algorithm, please se the **Release notes** section near the top of the notebook."
   ]
  },
  {
   "cell_type": "code",
   "execution_count": null,
   "metadata": {},
   "outputs": [],
   "source": [
    "from modules import sample_extraction as se\n",
    "\n",
    "if not dm.parcel_file_loaded:\n",
    "    print(\"Please load the parcel file first and run this cell again. Also, don't forget to set the bucket targets.\")\n",
    "\n",
    "elif not dm.targets_displayed_and_set:\n",
    "    print(\"Please set the bucket targets first (or set them again) and run this cell again.\")\n",
    "\n",
    "else:\n",
    "    buckets = se.prepare_buckets(dm.ua_groups)\n",
    "    parcels = se.prepare_input_dataframe(dm)\n",
    "    widgets = gui.display_output_area(buckets, dm)\n",
    "\n",
    "    final_buckets = se.iterate_over_interventions_fast(parcels, buckets, dm, widgets)\n",
    "\n",
    "    if se.buckets_full(buckets):\n",
    "        print(\"Analysis completed. All bucket s are full!\")\n",
    "    else:\n",
    "        print(\"Analysis completed. Some buckets are not full.\") \n",
    "\n",
    "    prefix, summary_path, excel_path, csv_path, hlcsv, hlexcel = se.generate_samples_extract_output(final_buckets, dm)\n",
    "    print(\"Output file generated.\")\n",
    "\n",
    "    print(f\"Excel file: {excel_path}\")\n",
    "    print(f\"CSV file: {csv_path}\")\n",
    "    print(f\"Summary file: {summary_path}\")\n",
    "\n",
    "    if dm.holding_level_interventions != []:\n",
    "        print(f\"Holding level Excel file: {hlexcel}\")\n",
    "        print(f\"Holding level CSV file: {hlcsv}\")"
   ]
  },
  {
   "cell_type": "markdown",
   "metadata": {},
   "source": [
    "# Final statistics"
   ]
  },
  {
   "cell_type": "markdown",
   "metadata": {},
   "source": [
    "Run the cell below after the extraction is finished, to display a detailed summary of the extracted data."
   ]
  },
  {
   "cell_type": "code",
   "execution_count": null,
   "metadata": {},
   "outputs": [],
   "source": [
    "print(final_buckets)"
   ]
  },
  {
   "cell_type": "code",
   "execution_count": null,
   "metadata": {},
   "outputs": [],
   "source": [
    "from modules import visualizations as vis\n",
    "\n",
    "for ua_group in dm.ua_groups:\n",
    "        dm.ua_groups[ua_group][\"selected\"] = len(dm.final_bucket_state[ua_group][\"parcels\"])\n",
    "\n",
    "vis.display_statistics_summary(dm)\n",
    "vis.display_reused_and_covered(dm) \n",
    "vis.display_bucket_stats(dm)"
   ]
  }
 ],
 "metadata": {
  "kernelspec": {
   "display_name": "Python 3",
   "language": "python",
   "name": "python3"
  },
  "language_info": {
   "codemirror_mode": {
    "name": "ipython",
    "version": 3
   },
   "file_extension": ".py",
   "mimetype": "text/x-python",
   "name": "python",
   "nbconvert_exporter": "python",
   "pygments_lexer": "ipython3",
   "version": "3.12.2"
  }
 },
 "nbformat": 4,
 "nbformat_minor": 4
}
